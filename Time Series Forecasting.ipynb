{
 "cells": [
  {
   "cell_type": "code",
   "execution_count": 19,
   "metadata": {
    "_cell_guid": "b1076dfc-b9ad-4769-8c92-a6c4dae69d19",
    "_kg_hide-output": true,
    "_uuid": "8f2839f25d086af736a60e9eeb907d3b93b6e0e5",
    "colab": {
     "base_uri": "https://localhost:8080/",
     "height": 17
    },
    "id": "UmzwBRnou3HD",
    "outputId": "822286aa-4802-4515-a351-ca1a89b6250b"
   },
   "outputs": [
    {
     "name": "stdout",
     "output_type": "stream",
     "text": [
      "\n"
     ]
    }
   ],
   "source": [
    "import warnings\n",
    "import numpy as np\n",
    "import pandas as pd\n",
    "import matplotlib.pyplot as plt\n",
    "from tensorflow import keras\n",
    "from tensorflow.keras import optimizers\n",
    "from tensorflow.keras.utils import plot_model\n",
    "from tensorflow.keras.models import Sequential, Model\n",
    "from tensorflow.python.keras.layers.convolutional import Conv1D, MaxPooling1D\n",
    "from tensorflow.python.keras.layers import Dense, LSTM, RepeatVector, TimeDistributed, Flatten\n",
    "from sklearn.metrics import mean_squared_error\n",
    "from sklearn.model_selection import train_test_split\n",
    "import matplotlib.pyplot as plt\n",
    "import seaborn as sns\n",
    "import plotly.express as px\n",
    "import plotly.graph_objects as go\n",
    "from plotly.subplots import make_subplots\n",
    "\n",
    "import plotly.offline as py #visualization\n",
    "py.init_notebook_mode(connected=True) #visualization\n",
    "import plotly.graph_objs as go #visualization\n",
    "import plotly.tools as tls #visualization\n",
    "import plotly.figure_factory as ff\n",
    "\n",
    "\n",
    "from plotly.offline import init_notebook_mode, iplot\n",
    "\n",
    "%matplotlib inline\n",
    "warnings.filterwarnings(\"ignore\")\n",
    "init_notebook_mode(connected=True)\n",
    "\n",
    "# Set seeds to make the experiment more reproducible.\n",
    "from tensorflow.compat.v1 import set_random_seed\n",
    "from numpy.random import seed\n",
    "set_random_seed(1)\n",
    "seed(1)"
   ]
  },
  {
   "cell_type": "markdown",
   "metadata": {
    "_uuid": "dcc9f061fb8acd9447b60551e33f8f8d83fd9dad",
    "id": "e9TTDZtzu3HF"
   },
   "source": [
    "### Loading data"
   ]
  },
  {
   "cell_type": "code",
   "execution_count": 14,
   "metadata": {
    "_cell_guid": "79c7e3d0-c299-4dcb-8224-4455121ee9b0",
    "_uuid": "d629ff2d2480ee46fbb7e2d37f6b5fab8052498a",
    "id": "DRhhrx4Iu3HH"
   },
   "outputs": [],
   "source": [
    "train = pd.read_csv('train.csv', parse_dates=['date'])\n",
    "test = pd.read_csv('test.csv', parse_dates=['date'])"
   ]
  },
  {
   "cell_type": "markdown",
   "metadata": {
    "_uuid": "a60085dbb63091a2947a1f19bdbf2519b0370f1a",
    "id": "6FNDzA2xu3HI"
   },
   "source": [
    "### Train set"
   ]
  },
  {
   "cell_type": "code",
   "execution_count": 15,
   "metadata": {
    "_kg_hide-input": true,
    "_uuid": "ae977a0cb52dbbb8701bdf9c4d4393737a98d103",
    "colab": {
     "base_uri": "https://localhost:8080/",
     "height": 300
    },
    "id": "VeLtpr5gu3HI",
    "outputId": "c9539559-984d-47fc-ffd1-e1748fc0a789"
   },
   "outputs": [
    {
     "data": {
      "text/html": [
       "<div>\n",
       "<style scoped>\n",
       "    .dataframe tbody tr th:only-of-type {\n",
       "        vertical-align: middle;\n",
       "    }\n",
       "\n",
       "    .dataframe tbody tr th {\n",
       "        vertical-align: top;\n",
       "    }\n",
       "\n",
       "    .dataframe thead th {\n",
       "        text-align: right;\n",
       "    }\n",
       "</style>\n",
       "<table border=\"1\" class=\"dataframe\">\n",
       "  <thead>\n",
       "    <tr style=\"text-align: right;\">\n",
       "      <th></th>\n",
       "      <th>store</th>\n",
       "      <th>item</th>\n",
       "      <th>sales</th>\n",
       "    </tr>\n",
       "  </thead>\n",
       "  <tbody>\n",
       "    <tr>\n",
       "      <th>count</th>\n",
       "      <td>913000.000000</td>\n",
       "      <td>913000.000000</td>\n",
       "      <td>913000.000000</td>\n",
       "    </tr>\n",
       "    <tr>\n",
       "      <th>mean</th>\n",
       "      <td>5.500000</td>\n",
       "      <td>25.500000</td>\n",
       "      <td>52.250287</td>\n",
       "    </tr>\n",
       "    <tr>\n",
       "      <th>std</th>\n",
       "      <td>2.872283</td>\n",
       "      <td>14.430878</td>\n",
       "      <td>28.801144</td>\n",
       "    </tr>\n",
       "    <tr>\n",
       "      <th>min</th>\n",
       "      <td>1.000000</td>\n",
       "      <td>1.000000</td>\n",
       "      <td>0.000000</td>\n",
       "    </tr>\n",
       "    <tr>\n",
       "      <th>25%</th>\n",
       "      <td>3.000000</td>\n",
       "      <td>13.000000</td>\n",
       "      <td>30.000000</td>\n",
       "    </tr>\n",
       "    <tr>\n",
       "      <th>50%</th>\n",
       "      <td>5.500000</td>\n",
       "      <td>25.500000</td>\n",
       "      <td>47.000000</td>\n",
       "    </tr>\n",
       "    <tr>\n",
       "      <th>75%</th>\n",
       "      <td>8.000000</td>\n",
       "      <td>38.000000</td>\n",
       "      <td>70.000000</td>\n",
       "    </tr>\n",
       "    <tr>\n",
       "      <th>max</th>\n",
       "      <td>10.000000</td>\n",
       "      <td>50.000000</td>\n",
       "      <td>231.000000</td>\n",
       "    </tr>\n",
       "  </tbody>\n",
       "</table>\n",
       "</div>"
      ],
      "text/plain": [
       "               store           item          sales\n",
       "count  913000.000000  913000.000000  913000.000000\n",
       "mean        5.500000      25.500000      52.250287\n",
       "std         2.872283      14.430878      28.801144\n",
       "min         1.000000       1.000000       0.000000\n",
       "25%         3.000000      13.000000      30.000000\n",
       "50%         5.500000      25.500000      47.000000\n",
       "75%         8.000000      38.000000      70.000000\n",
       "max        10.000000      50.000000     231.000000"
      ]
     },
     "execution_count": 15,
     "metadata": {},
     "output_type": "execute_result"
    }
   ],
   "source": [
    "train.describe()"
   ]
  },
  {
   "cell_type": "code",
   "execution_count": 16,
   "metadata": {
    "_kg_hide-input": true,
    "_uuid": "9bb6d25dceea154555cabb6c45a83b94fb8dccf1",
    "colab": {
     "base_uri": "https://localhost:8080/",
     "height": 206
    },
    "id": "-9VHglMsu3HI",
    "outputId": "7eec69ea-b9d6-4d9b-dca5-1cabd78003f3"
   },
   "outputs": [
    {
     "data": {
      "text/html": [
       "<div>\n",
       "<style scoped>\n",
       "    .dataframe tbody tr th:only-of-type {\n",
       "        vertical-align: middle;\n",
       "    }\n",
       "\n",
       "    .dataframe tbody tr th {\n",
       "        vertical-align: top;\n",
       "    }\n",
       "\n",
       "    .dataframe thead th {\n",
       "        text-align: right;\n",
       "    }\n",
       "</style>\n",
       "<table border=\"1\" class=\"dataframe\">\n",
       "  <thead>\n",
       "    <tr style=\"text-align: right;\">\n",
       "      <th></th>\n",
       "      <th>date</th>\n",
       "      <th>store</th>\n",
       "      <th>item</th>\n",
       "      <th>sales</th>\n",
       "    </tr>\n",
       "  </thead>\n",
       "  <tbody>\n",
       "    <tr>\n",
       "      <th>0</th>\n",
       "      <td>2013-01-01</td>\n",
       "      <td>1</td>\n",
       "      <td>1</td>\n",
       "      <td>13</td>\n",
       "    </tr>\n",
       "    <tr>\n",
       "      <th>1</th>\n",
       "      <td>2013-01-02</td>\n",
       "      <td>1</td>\n",
       "      <td>1</td>\n",
       "      <td>11</td>\n",
       "    </tr>\n",
       "    <tr>\n",
       "      <th>2</th>\n",
       "      <td>2013-01-03</td>\n",
       "      <td>1</td>\n",
       "      <td>1</td>\n",
       "      <td>14</td>\n",
       "    </tr>\n",
       "    <tr>\n",
       "      <th>3</th>\n",
       "      <td>2013-01-04</td>\n",
       "      <td>1</td>\n",
       "      <td>1</td>\n",
       "      <td>13</td>\n",
       "    </tr>\n",
       "    <tr>\n",
       "      <th>4</th>\n",
       "      <td>2013-01-05</td>\n",
       "      <td>1</td>\n",
       "      <td>1</td>\n",
       "      <td>10</td>\n",
       "    </tr>\n",
       "  </tbody>\n",
       "</table>\n",
       "</div>"
      ],
      "text/plain": [
       "        date  store  item  sales\n",
       "0 2013-01-01      1     1     13\n",
       "1 2013-01-02      1     1     11\n",
       "2 2013-01-03      1     1     14\n",
       "3 2013-01-04      1     1     13\n",
       "4 2013-01-05      1     1     10"
      ]
     },
     "execution_count": 16,
     "metadata": {},
     "output_type": "execute_result"
    }
   ],
   "source": [
    "train.head()"
   ]
  },
  {
   "cell_type": "markdown",
   "metadata": {
    "_uuid": "827c9c89b0e144fd4cf4bf2e048e50f98cbe3e26",
    "id": "1xck0g7Mu3HJ"
   },
   "source": [
    "### Time period of the train dataset"
   ]
  },
  {
   "cell_type": "code",
   "execution_count": 17,
   "metadata": {
    "_kg_hide-input": true,
    "_uuid": "98d7855038ae46908b4dbdb9328ca500a6b5d552",
    "colab": {
     "base_uri": "https://localhost:8080/"
    },
    "id": "Dv5ghB41u3HJ",
    "outputId": "79c8b8db-fb2f-4240-e9fa-08e8972c923f"
   },
   "outputs": [
    {
     "name": "stdout",
     "output_type": "stream",
     "text": [
      "Min date from train set: 2013-01-01\n",
      "Max date from train set: 2017-12-31\n"
     ]
    }
   ],
   "source": [
    "print('Min date from train set: %s' % train['date'].min().date())\n",
    "print('Max date from train set: %s' % train['date'].max().date())"
   ]
  },
  {
   "cell_type": "markdown",
   "metadata": {
    "_uuid": "f67cb93f552c3c7bac8cb8431072501348c4fa53",
    "id": "qaGPoBMnu3HJ"
   },
   "source": [
    "#### Let's find out what's the time gap between the last day from training set from the last day of the test set, this will be out lag (the amount of day that need to be forecast)"
   ]
  },
  {
   "cell_type": "code",
   "execution_count": 18,
   "metadata": {
    "_kg_hide-input": true,
    "_uuid": "7dd5441edc740bc3254694abb748f49b7ec3bbee",
    "colab": {
     "base_uri": "https://localhost:8080/"
    },
    "id": "CHBIk9uvu3HK",
    "outputId": "c1567fec-ceef-4cbf-ab7a-8e6f9bbe611d"
   },
   "outputs": [
    {
     "name": "stdout",
     "output_type": "stream",
     "text": [
      "Max date from train set: 2017-12-31\n",
      "Max date from test set: 2018-03-31\n",
      "Forecast lag size 90\n"
     ]
    }
   ],
   "source": [
    "lag_size = (test['date'].max().date() - train['date'].max().date()).days\n",
    "print('Max date from train set: %s' % train['date'].max().date())\n",
    "print('Max date from test set: %s' % test['date'].max().date())\n",
    "print('Forecast lag size', lag_size)"
   ]
  },
  {
   "cell_type": "markdown",
   "metadata": {
    "_uuid": "455b661280d3dff5b73f43df3fcd82e96e251663",
    "id": "AGF3IKKuu3HK"
   },
   "source": [
    "###  EDA\n",
    "\n",
    "To explore the time series data first we need to aggregate the sales by day"
   ]
  },
  {
   "cell_type": "code",
   "execution_count": 19,
   "metadata": {
    "_kg_hide-input": true,
    "_uuid": "a865dab2049d6157f5c8b1bc90cc37c37b559854",
    "id": "NIvjVsy-u3HL"
   },
   "outputs": [],
   "source": [
    "daily_sales = train.groupby('date', as_index=False)['sales'].sum()\n",
    "store_daily_sales = train.groupby(['store', 'date'], as_index=False)['sales'].sum()\n",
    "item_daily_sales = train.groupby(['item', 'date'], as_index=False)['sales'].sum()"
   ]
  },
  {
   "cell_type": "markdown",
   "metadata": {
    "_uuid": "153d5030e3381de2679042b1cd77a8889d616e47",
    "id": "AVOicCeJu3HL"
   },
   "source": [
    "### Overall daily sales"
   ]
  },
  {
   "cell_type": "code",
   "execution_count": 20,
   "metadata": {
    "_kg_hide-input": true,
    "_uuid": "79a4ccddbc65b201d6f7b4f55b152ef9eed6762f",
    "colab": {
     "base_uri": "https://localhost:8080/",
     "height": 542
    },
    "id": "QL8ccnbTu3HL",
    "outputId": "a85782d5-84a5-4814-b1f8-bd073af88037"
   },
   "outputs": [
    {
     "name": "stdout",
     "output_type": "stream",
     "text": [
      "\n"
     ]
    }
   ],
   "source": [
    "daily_sales_sc = go.Scatter(x=daily_sales['date'], y=daily_sales['sales'])\n",
    "layout = go.Layout(title='Daily sales', xaxis=dict(title='Date'), yaxis=dict(title='Sales'))\n",
    "fig = go.Figure(data=[daily_sales_sc], layout=layout)\n",
    "iplot(fig)"
   ]
  },
  {
   "cell_type": "markdown",
   "metadata": {
    "_uuid": "387e71579b0a4b5aca85a465c8e1b1a3a3289915",
    "id": "F2IrNv1ju3HL"
   },
   "source": [
    "### Daily sales by store"
   ]
  },
  {
   "cell_type": "code",
   "execution_count": 21,
   "metadata": {
    "_kg_hide-input": true,
    "_uuid": "0e8715f5557eac3cf3bd92eedec484c76ded1f61",
    "colab": {
     "base_uri": "https://localhost:8080/",
     "height": 542
    },
    "id": "nTWBAqOZu3HM",
    "outputId": "a7d3758f-2c74-4ef0-9836-d2e54d71dfe1"
   },
   "outputs": [
    {
     "name": "stdout",
     "output_type": "stream",
     "text": [
      "\n"
     ]
    }
   ],
   "source": [
    "store_daily_sales_sc = []\n",
    "for store in store_daily_sales['store'].unique():\n",
    "    current_store_daily_sales = store_daily_sales[(store_daily_sales['store'] == store)]\n",
    "    store_daily_sales_sc.append(go.Scatter(x=current_store_daily_sales['date'], y=current_store_daily_sales['sales'], name=('Store %s' % store)))\n",
    "\n",
    "layout = go.Layout(title='Store daily sales', xaxis=dict(title='Date'), yaxis=dict(title='Sales'))\n",
    "fig = go.Figure(data=store_daily_sales_sc, layout=layout)\n",
    "iplot(fig)"
   ]
  },
  {
   "cell_type": "markdown",
   "metadata": {
    "_uuid": "15c99b3e7c8fdc1076ff4359697107c15d0da41a",
    "id": "er7I9OyLu3HM"
   },
   "source": [
    "### Daily sales by item"
   ]
  },
  {
   "cell_type": "code",
   "execution_count": 22,
   "metadata": {
    "_kg_hide-input": true,
    "_uuid": "9036b41d4368d8ead697adbcafb50be91ca80c5c",
    "colab": {
     "base_uri": "https://localhost:8080/",
     "height": 542
    },
    "id": "tABg5_NWu3HN",
    "outputId": "22a11846-91de-495d-bb8e-5939a7ed054c"
   },
   "outputs": [
    {
     "name": "stdout",
     "output_type": "stream",
     "text": [
      "\n"
     ]
    }
   ],
   "source": [
    "item_daily_sales_sc = []\n",
    "for item in item_daily_sales['item'].unique():\n",
    "    current_item_daily_sales = item_daily_sales[(item_daily_sales['item'] == item)]\n",
    "    item_daily_sales_sc.append(go.Scatter(x=current_item_daily_sales['date'], y=current_item_daily_sales['sales'], name=('Item %s' % item)))\n",
    "\n",
    "layout = go.Layout(title='Item daily sales', xaxis=dict(title='Date'), yaxis=dict(title='Sales'))\n",
    "fig = go.Figure(data=item_daily_sales_sc, layout=layout)\n",
    "iplot(fig)"
   ]
  },
  {
   "cell_type": "markdown",
   "metadata": {
    "_uuid": "dd74fe1b76da480ca147af0f68b1e07d479020fc",
    "id": "wLt6Mn3hu3HN"
   },
   "source": [
    "#### Sub-sample train set to get only the last year of data and reduce training time"
   ]
  },
  {
   "cell_type": "code",
   "execution_count": 23,
   "metadata": {
    "_uuid": "58a105bc712d2e1da58dfa33cb62f1203de9f0a0",
    "id": "8u7vEn5au3HN"
   },
   "outputs": [],
   "source": [
    "train = train[(train['date'] >= '2017-01-01')]"
   ]
  },
  {
   "cell_type": "markdown",
   "metadata": {
    "_uuid": "f30936a69f127157190ecfedcacfd3e50bbb1616",
    "id": "CipuH4C2u3HO"
   },
   "source": [
    "### Rearrange dataset so we can apply shift methods"
   ]
  },
  {
   "cell_type": "code",
   "execution_count": 24,
   "metadata": {
    "_uuid": "2f9ffc8f0946c5caf4d99dc878f83f9e29ee73dd",
    "colab": {
     "base_uri": "https://localhost:8080/",
     "height": 206
    },
    "id": "qu1Ec522u3HO",
    "outputId": "aa12600f-db84-4471-91e3-4e0718d739ee"
   },
   "outputs": [
    {
     "data": {
      "text/html": [
       "<div>\n",
       "<style scoped>\n",
       "    .dataframe tbody tr th:only-of-type {\n",
       "        vertical-align: middle;\n",
       "    }\n",
       "\n",
       "    .dataframe tbody tr th {\n",
       "        vertical-align: top;\n",
       "    }\n",
       "\n",
       "    .dataframe thead th {\n",
       "        text-align: right;\n",
       "    }\n",
       "</style>\n",
       "<table border=\"1\" class=\"dataframe\">\n",
       "  <thead>\n",
       "    <tr style=\"text-align: right;\">\n",
       "      <th></th>\n",
       "      <th>item</th>\n",
       "      <th>store</th>\n",
       "      <th>date</th>\n",
       "      <th>sales</th>\n",
       "    </tr>\n",
       "  </thead>\n",
       "  <tbody>\n",
       "    <tr>\n",
       "      <th>0</th>\n",
       "      <td>1</td>\n",
       "      <td>1</td>\n",
       "      <td>2017-01-01</td>\n",
       "      <td>19</td>\n",
       "    </tr>\n",
       "    <tr>\n",
       "      <th>1</th>\n",
       "      <td>1</td>\n",
       "      <td>1</td>\n",
       "      <td>2017-01-02</td>\n",
       "      <td>15</td>\n",
       "    </tr>\n",
       "    <tr>\n",
       "      <th>2</th>\n",
       "      <td>1</td>\n",
       "      <td>1</td>\n",
       "      <td>2017-01-03</td>\n",
       "      <td>10</td>\n",
       "    </tr>\n",
       "    <tr>\n",
       "      <th>3</th>\n",
       "      <td>1</td>\n",
       "      <td>1</td>\n",
       "      <td>2017-01-04</td>\n",
       "      <td>16</td>\n",
       "    </tr>\n",
       "    <tr>\n",
       "      <th>4</th>\n",
       "      <td>1</td>\n",
       "      <td>1</td>\n",
       "      <td>2017-01-05</td>\n",
       "      <td>14</td>\n",
       "    </tr>\n",
       "  </tbody>\n",
       "</table>\n",
       "</div>"
      ],
      "text/plain": [
       "   item  store       date  sales\n",
       "0     1      1 2017-01-01     19\n",
       "1     1      1 2017-01-02     15\n",
       "2     1      1 2017-01-03     10\n",
       "3     1      1 2017-01-04     16\n",
       "4     1      1 2017-01-05     14"
      ]
     },
     "execution_count": 24,
     "metadata": {},
     "output_type": "execute_result"
    }
   ],
   "source": [
    "train_gp = train.sort_values('date').groupby(['item', 'store', 'date'], as_index=False)\n",
    "train_gp = train_gp.agg({'sales':['mean']})\n",
    "train_gp.columns = ['item', 'store', 'date', 'sales']\n",
    "train_gp.head()"
   ]
  },
  {
   "cell_type": "markdown",
   "metadata": {
    "_uuid": "72c037d182b0cd9b8d228d0042ace64c88e6cbd9",
    "id": "bbxeMqQvu3HO"
   },
   "source": [
    "### Transform the data into a time series problem"
   ]
  },
  {
   "cell_type": "code",
   "execution_count": 25,
   "metadata": {
    "_uuid": "c9400d07223d75b50930e37194c2a682ca436bf2",
    "id": "Mu_x-Dcgu3HP"
   },
   "outputs": [],
   "source": [
    "def series_to_supervised(data, window=1, lag=1, dropnan=True):\n",
    "    cols, names = list(), list()\n",
    "    # Input sequence (t-n, ... t-1)\n",
    "    for i in range(window, 0, -1):\n",
    "        cols.append(data.shift(i))\n",
    "        names += [('%s(t-%d)' % (col, i)) for col in data.columns]\n",
    "    # Current timestep (t=0)\n",
    "    cols.append(data)\n",
    "    names += [('%s(t)' % (col)) for col in data.columns]\n",
    "    \n",
    "    # Target timestep (t=lag)\n",
    "    cols.append(data.shift(-lag))\n",
    "    names += [('%s(t+%d)' % (col, lag)) for col in data.columns]\n",
    "    \n",
    "    # Put it all together\n",
    "    agg = pd.concat(cols, axis=1)\n",
    "    agg.columns = names\n",
    "    \n",
    "    # Drop rows with NaN values\n",
    "    if dropnan:\n",
    "        agg.dropna(inplace=True)\n",
    "    return agg"
   ]
  },
  {
   "cell_type": "markdown",
   "metadata": {
    "_uuid": "76407684060139325ff834aa9215360c7f69b5a8",
    "id": "flCvNFrDu3HP"
   },
   "source": [
    "#### We will use the current timestep and the last 29 to forecast 90 days ahead"
   ]
  },
  {
   "cell_type": "code",
   "execution_count": 26,
   "metadata": {
    "_uuid": "5cb604bd4fb5aa6a2fd966af6f7ed772a11ebf6e",
    "colab": {
     "base_uri": "https://localhost:8080/",
     "height": 273
    },
    "id": "mZ9KwS2Cu3HP",
    "outputId": "9f474858-b7e6-4172-de47-f99d8c68455b"
   },
   "outputs": [
    {
     "data": {
      "text/html": [
       "<div>\n",
       "<style scoped>\n",
       "    .dataframe tbody tr th:only-of-type {\n",
       "        vertical-align: middle;\n",
       "    }\n",
       "\n",
       "    .dataframe tbody tr th {\n",
       "        vertical-align: top;\n",
       "    }\n",
       "\n",
       "    .dataframe thead th {\n",
       "        text-align: right;\n",
       "    }\n",
       "</style>\n",
       "<table border=\"1\" class=\"dataframe\">\n",
       "  <thead>\n",
       "    <tr style=\"text-align: right;\">\n",
       "      <th></th>\n",
       "      <th>item(t-29)</th>\n",
       "      <th>store(t-29)</th>\n",
       "      <th>sales(t-29)</th>\n",
       "      <th>item(t-28)</th>\n",
       "      <th>store(t-28)</th>\n",
       "      <th>sales(t-28)</th>\n",
       "      <th>item(t-27)</th>\n",
       "      <th>store(t-27)</th>\n",
       "      <th>sales(t-27)</th>\n",
       "      <th>item(t-26)</th>\n",
       "      <th>store(t-26)</th>\n",
       "      <th>sales(t-26)</th>\n",
       "      <th>item(t-25)</th>\n",
       "      <th>store(t-25)</th>\n",
       "      <th>sales(t-25)</th>\n",
       "      <th>item(t-24)</th>\n",
       "      <th>store(t-24)</th>\n",
       "      <th>sales(t-24)</th>\n",
       "      <th>item(t-23)</th>\n",
       "      <th>store(t-23)</th>\n",
       "      <th>sales(t-23)</th>\n",
       "      <th>item(t-22)</th>\n",
       "      <th>store(t-22)</th>\n",
       "      <th>sales(t-22)</th>\n",
       "      <th>item(t-21)</th>\n",
       "      <th>store(t-21)</th>\n",
       "      <th>sales(t-21)</th>\n",
       "      <th>item(t-20)</th>\n",
       "      <th>store(t-20)</th>\n",
       "      <th>sales(t-20)</th>\n",
       "      <th>item(t-19)</th>\n",
       "      <th>store(t-19)</th>\n",
       "      <th>sales(t-19)</th>\n",
       "      <th>item(t-18)</th>\n",
       "      <th>store(t-18)</th>\n",
       "      <th>sales(t-18)</th>\n",
       "      <th>item(t-17)</th>\n",
       "      <th>store(t-17)</th>\n",
       "      <th>sales(t-17)</th>\n",
       "      <th>item(t-16)</th>\n",
       "      <th>...</th>\n",
       "      <th>sales(t-12)</th>\n",
       "      <th>item(t-11)</th>\n",
       "      <th>store(t-11)</th>\n",
       "      <th>sales(t-11)</th>\n",
       "      <th>item(t-10)</th>\n",
       "      <th>store(t-10)</th>\n",
       "      <th>sales(t-10)</th>\n",
       "      <th>item(t-9)</th>\n",
       "      <th>store(t-9)</th>\n",
       "      <th>sales(t-9)</th>\n",
       "      <th>item(t-8)</th>\n",
       "      <th>store(t-8)</th>\n",
       "      <th>sales(t-8)</th>\n",
       "      <th>item(t-7)</th>\n",
       "      <th>store(t-7)</th>\n",
       "      <th>sales(t-7)</th>\n",
       "      <th>item(t-6)</th>\n",
       "      <th>store(t-6)</th>\n",
       "      <th>sales(t-6)</th>\n",
       "      <th>item(t-5)</th>\n",
       "      <th>store(t-5)</th>\n",
       "      <th>sales(t-5)</th>\n",
       "      <th>item(t-4)</th>\n",
       "      <th>store(t-4)</th>\n",
       "      <th>sales(t-4)</th>\n",
       "      <th>item(t-3)</th>\n",
       "      <th>store(t-3)</th>\n",
       "      <th>sales(t-3)</th>\n",
       "      <th>item(t-2)</th>\n",
       "      <th>store(t-2)</th>\n",
       "      <th>sales(t-2)</th>\n",
       "      <th>item(t-1)</th>\n",
       "      <th>store(t-1)</th>\n",
       "      <th>sales(t-1)</th>\n",
       "      <th>item(t)</th>\n",
       "      <th>store(t)</th>\n",
       "      <th>sales(t)</th>\n",
       "      <th>item(t+90)</th>\n",
       "      <th>store(t+90)</th>\n",
       "      <th>sales(t+90)</th>\n",
       "    </tr>\n",
       "  </thead>\n",
       "  <tbody>\n",
       "    <tr>\n",
       "      <th>29</th>\n",
       "      <td>1.0</td>\n",
       "      <td>1.0</td>\n",
       "      <td>19.0</td>\n",
       "      <td>1.0</td>\n",
       "      <td>1.0</td>\n",
       "      <td>15.0</td>\n",
       "      <td>1.0</td>\n",
       "      <td>1.0</td>\n",
       "      <td>10.0</td>\n",
       "      <td>1.0</td>\n",
       "      <td>1.0</td>\n",
       "      <td>16.0</td>\n",
       "      <td>1.0</td>\n",
       "      <td>1.0</td>\n",
       "      <td>14.0</td>\n",
       "      <td>1.0</td>\n",
       "      <td>1.0</td>\n",
       "      <td>24.0</td>\n",
       "      <td>1.0</td>\n",
       "      <td>1.0</td>\n",
       "      <td>14.0</td>\n",
       "      <td>1.0</td>\n",
       "      <td>1.0</td>\n",
       "      <td>20.0</td>\n",
       "      <td>1.0</td>\n",
       "      <td>1.0</td>\n",
       "      <td>18.0</td>\n",
       "      <td>1.0</td>\n",
       "      <td>1.0</td>\n",
       "      <td>11.0</td>\n",
       "      <td>1.0</td>\n",
       "      <td>1.0</td>\n",
       "      <td>14.0</td>\n",
       "      <td>1.0</td>\n",
       "      <td>1.0</td>\n",
       "      <td>17.0</td>\n",
       "      <td>1.0</td>\n",
       "      <td>1.0</td>\n",
       "      <td>7.0</td>\n",
       "      <td>1.0</td>\n",
       "      <td>...</td>\n",
       "      <td>10.0</td>\n",
       "      <td>1.0</td>\n",
       "      <td>1.0</td>\n",
       "      <td>16.0</td>\n",
       "      <td>1.0</td>\n",
       "      <td>1.0</td>\n",
       "      <td>22.0</td>\n",
       "      <td>1.0</td>\n",
       "      <td>1.0</td>\n",
       "      <td>13.0</td>\n",
       "      <td>1.0</td>\n",
       "      <td>1.0</td>\n",
       "      <td>21.0</td>\n",
       "      <td>1.0</td>\n",
       "      <td>1.0</td>\n",
       "      <td>9.0</td>\n",
       "      <td>1.0</td>\n",
       "      <td>1.0</td>\n",
       "      <td>18.0</td>\n",
       "      <td>1.0</td>\n",
       "      <td>1.0</td>\n",
       "      <td>14.0</td>\n",
       "      <td>1.0</td>\n",
       "      <td>1.0</td>\n",
       "      <td>13.0</td>\n",
       "      <td>1.0</td>\n",
       "      <td>1.0</td>\n",
       "      <td>10.0</td>\n",
       "      <td>1.0</td>\n",
       "      <td>1.0</td>\n",
       "      <td>16.0</td>\n",
       "      <td>1.0</td>\n",
       "      <td>1.0</td>\n",
       "      <td>24.0</td>\n",
       "      <td>1</td>\n",
       "      <td>1</td>\n",
       "      <td>9</td>\n",
       "      <td>1.0</td>\n",
       "      <td>1.0</td>\n",
       "      <td>33.0</td>\n",
       "    </tr>\n",
       "    <tr>\n",
       "      <th>30</th>\n",
       "      <td>1.0</td>\n",
       "      <td>1.0</td>\n",
       "      <td>15.0</td>\n",
       "      <td>1.0</td>\n",
       "      <td>1.0</td>\n",
       "      <td>10.0</td>\n",
       "      <td>1.0</td>\n",
       "      <td>1.0</td>\n",
       "      <td>16.0</td>\n",
       "      <td>1.0</td>\n",
       "      <td>1.0</td>\n",
       "      <td>14.0</td>\n",
       "      <td>1.0</td>\n",
       "      <td>1.0</td>\n",
       "      <td>24.0</td>\n",
       "      <td>1.0</td>\n",
       "      <td>1.0</td>\n",
       "      <td>14.0</td>\n",
       "      <td>1.0</td>\n",
       "      <td>1.0</td>\n",
       "      <td>20.0</td>\n",
       "      <td>1.0</td>\n",
       "      <td>1.0</td>\n",
       "      <td>18.0</td>\n",
       "      <td>1.0</td>\n",
       "      <td>1.0</td>\n",
       "      <td>11.0</td>\n",
       "      <td>1.0</td>\n",
       "      <td>1.0</td>\n",
       "      <td>14.0</td>\n",
       "      <td>1.0</td>\n",
       "      <td>1.0</td>\n",
       "      <td>17.0</td>\n",
       "      <td>1.0</td>\n",
       "      <td>1.0</td>\n",
       "      <td>7.0</td>\n",
       "      <td>1.0</td>\n",
       "      <td>1.0</td>\n",
       "      <td>16.0</td>\n",
       "      <td>1.0</td>\n",
       "      <td>...</td>\n",
       "      <td>16.0</td>\n",
       "      <td>1.0</td>\n",
       "      <td>1.0</td>\n",
       "      <td>22.0</td>\n",
       "      <td>1.0</td>\n",
       "      <td>1.0</td>\n",
       "      <td>13.0</td>\n",
       "      <td>1.0</td>\n",
       "      <td>1.0</td>\n",
       "      <td>21.0</td>\n",
       "      <td>1.0</td>\n",
       "      <td>1.0</td>\n",
       "      <td>9.0</td>\n",
       "      <td>1.0</td>\n",
       "      <td>1.0</td>\n",
       "      <td>18.0</td>\n",
       "      <td>1.0</td>\n",
       "      <td>1.0</td>\n",
       "      <td>14.0</td>\n",
       "      <td>1.0</td>\n",
       "      <td>1.0</td>\n",
       "      <td>13.0</td>\n",
       "      <td>1.0</td>\n",
       "      <td>1.0</td>\n",
       "      <td>10.0</td>\n",
       "      <td>1.0</td>\n",
       "      <td>1.0</td>\n",
       "      <td>16.0</td>\n",
       "      <td>1.0</td>\n",
       "      <td>1.0</td>\n",
       "      <td>24.0</td>\n",
       "      <td>1.0</td>\n",
       "      <td>1.0</td>\n",
       "      <td>9.0</td>\n",
       "      <td>1</td>\n",
       "      <td>1</td>\n",
       "      <td>17</td>\n",
       "      <td>1.0</td>\n",
       "      <td>1.0</td>\n",
       "      <td>15.0</td>\n",
       "    </tr>\n",
       "    <tr>\n",
       "      <th>31</th>\n",
       "      <td>1.0</td>\n",
       "      <td>1.0</td>\n",
       "      <td>10.0</td>\n",
       "      <td>1.0</td>\n",
       "      <td>1.0</td>\n",
       "      <td>16.0</td>\n",
       "      <td>1.0</td>\n",
       "      <td>1.0</td>\n",
       "      <td>14.0</td>\n",
       "      <td>1.0</td>\n",
       "      <td>1.0</td>\n",
       "      <td>24.0</td>\n",
       "      <td>1.0</td>\n",
       "      <td>1.0</td>\n",
       "      <td>14.0</td>\n",
       "      <td>1.0</td>\n",
       "      <td>1.0</td>\n",
       "      <td>20.0</td>\n",
       "      <td>1.0</td>\n",
       "      <td>1.0</td>\n",
       "      <td>18.0</td>\n",
       "      <td>1.0</td>\n",
       "      <td>1.0</td>\n",
       "      <td>11.0</td>\n",
       "      <td>1.0</td>\n",
       "      <td>1.0</td>\n",
       "      <td>14.0</td>\n",
       "      <td>1.0</td>\n",
       "      <td>1.0</td>\n",
       "      <td>17.0</td>\n",
       "      <td>1.0</td>\n",
       "      <td>1.0</td>\n",
       "      <td>7.0</td>\n",
       "      <td>1.0</td>\n",
       "      <td>1.0</td>\n",
       "      <td>16.0</td>\n",
       "      <td>1.0</td>\n",
       "      <td>1.0</td>\n",
       "      <td>29.0</td>\n",
       "      <td>1.0</td>\n",
       "      <td>...</td>\n",
       "      <td>22.0</td>\n",
       "      <td>1.0</td>\n",
       "      <td>1.0</td>\n",
       "      <td>13.0</td>\n",
       "      <td>1.0</td>\n",
       "      <td>1.0</td>\n",
       "      <td>21.0</td>\n",
       "      <td>1.0</td>\n",
       "      <td>1.0</td>\n",
       "      <td>9.0</td>\n",
       "      <td>1.0</td>\n",
       "      <td>1.0</td>\n",
       "      <td>18.0</td>\n",
       "      <td>1.0</td>\n",
       "      <td>1.0</td>\n",
       "      <td>14.0</td>\n",
       "      <td>1.0</td>\n",
       "      <td>1.0</td>\n",
       "      <td>13.0</td>\n",
       "      <td>1.0</td>\n",
       "      <td>1.0</td>\n",
       "      <td>10.0</td>\n",
       "      <td>1.0</td>\n",
       "      <td>1.0</td>\n",
       "      <td>16.0</td>\n",
       "      <td>1.0</td>\n",
       "      <td>1.0</td>\n",
       "      <td>24.0</td>\n",
       "      <td>1.0</td>\n",
       "      <td>1.0</td>\n",
       "      <td>9.0</td>\n",
       "      <td>1.0</td>\n",
       "      <td>1.0</td>\n",
       "      <td>17.0</td>\n",
       "      <td>1</td>\n",
       "      <td>1</td>\n",
       "      <td>15</td>\n",
       "      <td>1.0</td>\n",
       "      <td>1.0</td>\n",
       "      <td>21.0</td>\n",
       "    </tr>\n",
       "    <tr>\n",
       "      <th>32</th>\n",
       "      <td>1.0</td>\n",
       "      <td>1.0</td>\n",
       "      <td>16.0</td>\n",
       "      <td>1.0</td>\n",
       "      <td>1.0</td>\n",
       "      <td>14.0</td>\n",
       "      <td>1.0</td>\n",
       "      <td>1.0</td>\n",
       "      <td>24.0</td>\n",
       "      <td>1.0</td>\n",
       "      <td>1.0</td>\n",
       "      <td>14.0</td>\n",
       "      <td>1.0</td>\n",
       "      <td>1.0</td>\n",
       "      <td>20.0</td>\n",
       "      <td>1.0</td>\n",
       "      <td>1.0</td>\n",
       "      <td>18.0</td>\n",
       "      <td>1.0</td>\n",
       "      <td>1.0</td>\n",
       "      <td>11.0</td>\n",
       "      <td>1.0</td>\n",
       "      <td>1.0</td>\n",
       "      <td>14.0</td>\n",
       "      <td>1.0</td>\n",
       "      <td>1.0</td>\n",
       "      <td>17.0</td>\n",
       "      <td>1.0</td>\n",
       "      <td>1.0</td>\n",
       "      <td>7.0</td>\n",
       "      <td>1.0</td>\n",
       "      <td>1.0</td>\n",
       "      <td>16.0</td>\n",
       "      <td>1.0</td>\n",
       "      <td>1.0</td>\n",
       "      <td>29.0</td>\n",
       "      <td>1.0</td>\n",
       "      <td>1.0</td>\n",
       "      <td>15.0</td>\n",
       "      <td>1.0</td>\n",
       "      <td>...</td>\n",
       "      <td>13.0</td>\n",
       "      <td>1.0</td>\n",
       "      <td>1.0</td>\n",
       "      <td>21.0</td>\n",
       "      <td>1.0</td>\n",
       "      <td>1.0</td>\n",
       "      <td>9.0</td>\n",
       "      <td>1.0</td>\n",
       "      <td>1.0</td>\n",
       "      <td>18.0</td>\n",
       "      <td>1.0</td>\n",
       "      <td>1.0</td>\n",
       "      <td>14.0</td>\n",
       "      <td>1.0</td>\n",
       "      <td>1.0</td>\n",
       "      <td>13.0</td>\n",
       "      <td>1.0</td>\n",
       "      <td>1.0</td>\n",
       "      <td>10.0</td>\n",
       "      <td>1.0</td>\n",
       "      <td>1.0</td>\n",
       "      <td>16.0</td>\n",
       "      <td>1.0</td>\n",
       "      <td>1.0</td>\n",
       "      <td>24.0</td>\n",
       "      <td>1.0</td>\n",
       "      <td>1.0</td>\n",
       "      <td>9.0</td>\n",
       "      <td>1.0</td>\n",
       "      <td>1.0</td>\n",
       "      <td>17.0</td>\n",
       "      <td>1.0</td>\n",
       "      <td>1.0</td>\n",
       "      <td>15.0</td>\n",
       "      <td>1</td>\n",
       "      <td>1</td>\n",
       "      <td>17</td>\n",
       "      <td>1.0</td>\n",
       "      <td>1.0</td>\n",
       "      <td>29.0</td>\n",
       "    </tr>\n",
       "    <tr>\n",
       "      <th>33</th>\n",
       "      <td>1.0</td>\n",
       "      <td>1.0</td>\n",
       "      <td>14.0</td>\n",
       "      <td>1.0</td>\n",
       "      <td>1.0</td>\n",
       "      <td>24.0</td>\n",
       "      <td>1.0</td>\n",
       "      <td>1.0</td>\n",
       "      <td>14.0</td>\n",
       "      <td>1.0</td>\n",
       "      <td>1.0</td>\n",
       "      <td>20.0</td>\n",
       "      <td>1.0</td>\n",
       "      <td>1.0</td>\n",
       "      <td>18.0</td>\n",
       "      <td>1.0</td>\n",
       "      <td>1.0</td>\n",
       "      <td>11.0</td>\n",
       "      <td>1.0</td>\n",
       "      <td>1.0</td>\n",
       "      <td>14.0</td>\n",
       "      <td>1.0</td>\n",
       "      <td>1.0</td>\n",
       "      <td>17.0</td>\n",
       "      <td>1.0</td>\n",
       "      <td>1.0</td>\n",
       "      <td>7.0</td>\n",
       "      <td>1.0</td>\n",
       "      <td>1.0</td>\n",
       "      <td>16.0</td>\n",
       "      <td>1.0</td>\n",
       "      <td>1.0</td>\n",
       "      <td>29.0</td>\n",
       "      <td>1.0</td>\n",
       "      <td>1.0</td>\n",
       "      <td>15.0</td>\n",
       "      <td>1.0</td>\n",
       "      <td>1.0</td>\n",
       "      <td>14.0</td>\n",
       "      <td>1.0</td>\n",
       "      <td>...</td>\n",
       "      <td>21.0</td>\n",
       "      <td>1.0</td>\n",
       "      <td>1.0</td>\n",
       "      <td>9.0</td>\n",
       "      <td>1.0</td>\n",
       "      <td>1.0</td>\n",
       "      <td>18.0</td>\n",
       "      <td>1.0</td>\n",
       "      <td>1.0</td>\n",
       "      <td>14.0</td>\n",
       "      <td>1.0</td>\n",
       "      <td>1.0</td>\n",
       "      <td>13.0</td>\n",
       "      <td>1.0</td>\n",
       "      <td>1.0</td>\n",
       "      <td>10.0</td>\n",
       "      <td>1.0</td>\n",
       "      <td>1.0</td>\n",
       "      <td>16.0</td>\n",
       "      <td>1.0</td>\n",
       "      <td>1.0</td>\n",
       "      <td>24.0</td>\n",
       "      <td>1.0</td>\n",
       "      <td>1.0</td>\n",
       "      <td>9.0</td>\n",
       "      <td>1.0</td>\n",
       "      <td>1.0</td>\n",
       "      <td>17.0</td>\n",
       "      <td>1.0</td>\n",
       "      <td>1.0</td>\n",
       "      <td>15.0</td>\n",
       "      <td>1.0</td>\n",
       "      <td>1.0</td>\n",
       "      <td>17.0</td>\n",
       "      <td>1</td>\n",
       "      <td>1</td>\n",
       "      <td>24</td>\n",
       "      <td>1.0</td>\n",
       "      <td>1.0</td>\n",
       "      <td>19.0</td>\n",
       "    </tr>\n",
       "  </tbody>\n",
       "</table>\n",
       "<p>5 rows × 93 columns</p>\n",
       "</div>"
      ],
      "text/plain": [
       "    item(t-29)  store(t-29)  sales(t-29)  ...  item(t+90)  store(t+90)  sales(t+90)\n",
       "29         1.0          1.0         19.0  ...         1.0          1.0         33.0\n",
       "30         1.0          1.0         15.0  ...         1.0          1.0         15.0\n",
       "31         1.0          1.0         10.0  ...         1.0          1.0         21.0\n",
       "32         1.0          1.0         16.0  ...         1.0          1.0         29.0\n",
       "33         1.0          1.0         14.0  ...         1.0          1.0         19.0\n",
       "\n",
       "[5 rows x 93 columns]"
      ]
     },
     "execution_count": 26,
     "metadata": {},
     "output_type": "execute_result"
    }
   ],
   "source": [
    "window = 29\n",
    "lag = lag_size\n",
    "series = series_to_supervised(train_gp.drop('date', axis=1), window=window, lag=lag)\n",
    "series.head()"
   ]
  },
  {
   "cell_type": "markdown",
   "metadata": {
    "_uuid": "f147b4d5ed1cde12436d07fb13fff6c074857f2f",
    "id": "jwXDtNNMu3HP"
   },
   "source": [
    "#### Drop rows with different item or store values than the shifted columns"
   ]
  },
  {
   "cell_type": "code",
   "execution_count": 27,
   "metadata": {
    "_uuid": "bcc650cb3df2f11a58b4288171663d67cab5f4f7",
    "id": "O17tH2gRu3HQ"
   },
   "outputs": [],
   "source": [
    "last_item = 'item(t-%d)' % window\n",
    "last_store = 'store(t-%d)' % window\n",
    "series = series[(series['store(t)'] == series[last_store])]\n",
    "series = series[(series['item(t)'] == series[last_item])]"
   ]
  },
  {
   "cell_type": "markdown",
   "metadata": {
    "_uuid": "07c8a6ac6dbbe309b626d4e2f47a44fae987875c",
    "id": "saX6tKFvu3HQ"
   },
   "source": [
    "#### Remove unwanted columns"
   ]
  },
  {
   "cell_type": "code",
   "execution_count": 28,
   "metadata": {
    "_uuid": "830f58c2a435ce18271629008fb1cd79c9323ead",
    "id": "eS8Qx_stu3HQ"
   },
   "outputs": [],
   "source": [
    "columns_to_drop = [('%s(t+%d)' % (col, lag)) for col in ['item', 'store']]\n",
    "for i in range(window, 0, -1):\n",
    "    columns_to_drop += [('%s(t-%d)' % (col, i)) for col in ['item', 'store']]\n",
    "series.drop(columns_to_drop, axis=1, inplace=True)\n",
    "series.drop(['item(t)', 'store(t)'], axis=1, inplace=True)"
   ]
  },
  {
   "cell_type": "markdown",
   "metadata": {
    "_uuid": "cdb34762d10c594f403df21519abb22601bf4e01",
    "id": "UKASnSD_u3HQ"
   },
   "source": [
    "### Train/validation split"
   ]
  },
  {
   "cell_type": "code",
   "execution_count": 29,
   "metadata": {
    "_uuid": "389bfd84bc41a330b2f5ec84dd0ca7517eb52e31",
    "colab": {
     "base_uri": "https://localhost:8080/",
     "height": 278
    },
    "id": "2GDQoQFGu3HQ",
    "outputId": "c310d234-3679-4905-a81e-2805fc9101d7"
   },
   "outputs": [
    {
     "name": "stdout",
     "output_type": "stream",
     "text": [
      "Train set shape (100746, 30)\n",
      "Validation set shape (67164, 30)\n"
     ]
    },
    {
     "data": {
      "text/html": [
       "<div>\n",
       "<style scoped>\n",
       "    .dataframe tbody tr th:only-of-type {\n",
       "        vertical-align: middle;\n",
       "    }\n",
       "\n",
       "    .dataframe tbody tr th {\n",
       "        vertical-align: top;\n",
       "    }\n",
       "\n",
       "    .dataframe thead th {\n",
       "        text-align: right;\n",
       "    }\n",
       "</style>\n",
       "<table border=\"1\" class=\"dataframe\">\n",
       "  <thead>\n",
       "    <tr style=\"text-align: right;\">\n",
       "      <th></th>\n",
       "      <th>sales(t-29)</th>\n",
       "      <th>sales(t-28)</th>\n",
       "      <th>sales(t-27)</th>\n",
       "      <th>sales(t-26)</th>\n",
       "      <th>sales(t-25)</th>\n",
       "      <th>sales(t-24)</th>\n",
       "      <th>sales(t-23)</th>\n",
       "      <th>sales(t-22)</th>\n",
       "      <th>sales(t-21)</th>\n",
       "      <th>sales(t-20)</th>\n",
       "      <th>sales(t-19)</th>\n",
       "      <th>sales(t-18)</th>\n",
       "      <th>sales(t-17)</th>\n",
       "      <th>sales(t-16)</th>\n",
       "      <th>sales(t-15)</th>\n",
       "      <th>sales(t-14)</th>\n",
       "      <th>sales(t-13)</th>\n",
       "      <th>sales(t-12)</th>\n",
       "      <th>sales(t-11)</th>\n",
       "      <th>sales(t-10)</th>\n",
       "      <th>sales(t-9)</th>\n",
       "      <th>sales(t-8)</th>\n",
       "      <th>sales(t-7)</th>\n",
       "      <th>sales(t-6)</th>\n",
       "      <th>sales(t-5)</th>\n",
       "      <th>sales(t-4)</th>\n",
       "      <th>sales(t-3)</th>\n",
       "      <th>sales(t-2)</th>\n",
       "      <th>sales(t-1)</th>\n",
       "      <th>sales(t)</th>\n",
       "    </tr>\n",
       "  </thead>\n",
       "  <tbody>\n",
       "    <tr>\n",
       "      <th>18801</th>\n",
       "      <td>97.0</td>\n",
       "      <td>111.0</td>\n",
       "      <td>90.0</td>\n",
       "      <td>115.0</td>\n",
       "      <td>123.0</td>\n",
       "      <td>70.0</td>\n",
       "      <td>99.0</td>\n",
       "      <td>74.0</td>\n",
       "      <td>107.0</td>\n",
       "      <td>108.0</td>\n",
       "      <td>121.0</td>\n",
       "      <td>136.0</td>\n",
       "      <td>82.0</td>\n",
       "      <td>106.0</td>\n",
       "      <td>81.0</td>\n",
       "      <td>80.0</td>\n",
       "      <td>108.0</td>\n",
       "      <td>131.0</td>\n",
       "      <td>115.0</td>\n",
       "      <td>86.0</td>\n",
       "      <td>85.0</td>\n",
       "      <td>95.0</td>\n",
       "      <td>123.0</td>\n",
       "      <td>109.0</td>\n",
       "      <td>127.0</td>\n",
       "      <td>132.0</td>\n",
       "      <td>87.0</td>\n",
       "      <td>101.0</td>\n",
       "      <td>102.0</td>\n",
       "      <td>114</td>\n",
       "    </tr>\n",
       "    <tr>\n",
       "      <th>160385</th>\n",
       "      <td>38.0</td>\n",
       "      <td>43.0</td>\n",
       "      <td>43.0</td>\n",
       "      <td>55.0</td>\n",
       "      <td>47.0</td>\n",
       "      <td>51.0</td>\n",
       "      <td>38.0</td>\n",
       "      <td>41.0</td>\n",
       "      <td>37.0</td>\n",
       "      <td>59.0</td>\n",
       "      <td>37.0</td>\n",
       "      <td>36.0</td>\n",
       "      <td>48.0</td>\n",
       "      <td>35.0</td>\n",
       "      <td>42.0</td>\n",
       "      <td>40.0</td>\n",
       "      <td>43.0</td>\n",
       "      <td>54.0</td>\n",
       "      <td>56.0</td>\n",
       "      <td>64.0</td>\n",
       "      <td>41.0</td>\n",
       "      <td>38.0</td>\n",
       "      <td>38.0</td>\n",
       "      <td>53.0</td>\n",
       "      <td>53.0</td>\n",
       "      <td>45.0</td>\n",
       "      <td>44.0</td>\n",
       "      <td>24.0</td>\n",
       "      <td>30.0</td>\n",
       "      <td>37</td>\n",
       "    </tr>\n",
       "    <tr>\n",
       "      <th>73123</th>\n",
       "      <td>55.0</td>\n",
       "      <td>45.0</td>\n",
       "      <td>41.0</td>\n",
       "      <td>46.0</td>\n",
       "      <td>47.0</td>\n",
       "      <td>36.0</td>\n",
       "      <td>30.0</td>\n",
       "      <td>46.0</td>\n",
       "      <td>41.0</td>\n",
       "      <td>42.0</td>\n",
       "      <td>55.0</td>\n",
       "      <td>64.0</td>\n",
       "      <td>30.0</td>\n",
       "      <td>38.0</td>\n",
       "      <td>36.0</td>\n",
       "      <td>38.0</td>\n",
       "      <td>38.0</td>\n",
       "      <td>40.0</td>\n",
       "      <td>46.0</td>\n",
       "      <td>43.0</td>\n",
       "      <td>38.0</td>\n",
       "      <td>36.0</td>\n",
       "      <td>40.0</td>\n",
       "      <td>50.0</td>\n",
       "      <td>44.0</td>\n",
       "      <td>44.0</td>\n",
       "      <td>40.0</td>\n",
       "      <td>38.0</td>\n",
       "      <td>50.0</td>\n",
       "      <td>49</td>\n",
       "    </tr>\n",
       "    <tr>\n",
       "      <th>90428</th>\n",
       "      <td>139.0</td>\n",
       "      <td>157.0</td>\n",
       "      <td>85.0</td>\n",
       "      <td>99.0</td>\n",
       "      <td>136.0</td>\n",
       "      <td>110.0</td>\n",
       "      <td>121.0</td>\n",
       "      <td>123.0</td>\n",
       "      <td>147.0</td>\n",
       "      <td>91.0</td>\n",
       "      <td>112.0</td>\n",
       "      <td>110.0</td>\n",
       "      <td>104.0</td>\n",
       "      <td>115.0</td>\n",
       "      <td>143.0</td>\n",
       "      <td>156.0</td>\n",
       "      <td>95.0</td>\n",
       "      <td>88.0</td>\n",
       "      <td>106.0</td>\n",
       "      <td>128.0</td>\n",
       "      <td>130.0</td>\n",
       "      <td>128.0</td>\n",
       "      <td>128.0</td>\n",
       "      <td>95.0</td>\n",
       "      <td>116.0</td>\n",
       "      <td>110.0</td>\n",
       "      <td>117.0</td>\n",
       "      <td>118.0</td>\n",
       "      <td>129.0</td>\n",
       "      <td>132</td>\n",
       "    </tr>\n",
       "    <tr>\n",
       "      <th>167151</th>\n",
       "      <td>86.0</td>\n",
       "      <td>58.0</td>\n",
       "      <td>88.0</td>\n",
       "      <td>87.0</td>\n",
       "      <td>114.0</td>\n",
       "      <td>113.0</td>\n",
       "      <td>64.0</td>\n",
       "      <td>76.0</td>\n",
       "      <td>87.0</td>\n",
       "      <td>81.0</td>\n",
       "      <td>78.0</td>\n",
       "      <td>95.0</td>\n",
       "      <td>100.0</td>\n",
       "      <td>63.0</td>\n",
       "      <td>77.0</td>\n",
       "      <td>80.0</td>\n",
       "      <td>103.0</td>\n",
       "      <td>64.0</td>\n",
       "      <td>71.0</td>\n",
       "      <td>74.0</td>\n",
       "      <td>55.0</td>\n",
       "      <td>66.0</td>\n",
       "      <td>59.0</td>\n",
       "      <td>53.0</td>\n",
       "      <td>63.0</td>\n",
       "      <td>59.0</td>\n",
       "      <td>77.0</td>\n",
       "      <td>39.0</td>\n",
       "      <td>56.0</td>\n",
       "      <td>62</td>\n",
       "    </tr>\n",
       "  </tbody>\n",
       "</table>\n",
       "</div>"
      ],
      "text/plain": [
       "        sales(t-29)  sales(t-28)  sales(t-27)  ...  sales(t-2)  sales(t-1)  sales(t)\n",
       "18801          97.0        111.0         90.0  ...       101.0       102.0       114\n",
       "160385         38.0         43.0         43.0  ...        24.0        30.0        37\n",
       "73123          55.0         45.0         41.0  ...        38.0        50.0        49\n",
       "90428         139.0        157.0         85.0  ...       118.0       129.0       132\n",
       "167151         86.0         58.0         88.0  ...        39.0        56.0        62\n",
       "\n",
       "[5 rows x 30 columns]"
      ]
     },
     "execution_count": 29,
     "metadata": {},
     "output_type": "execute_result"
    }
   ],
   "source": [
    "# Label\n",
    "labels_col = 'sales(t+%d)' % lag_size\n",
    "labels = series[labels_col]\n",
    "series = series.drop(labels_col, axis=1)\n",
    "\n",
    "X_train, X_valid, Y_train, Y_valid = train_test_split(series, labels.values, test_size=0.4, random_state=0)\n",
    "print('Train set shape', X_train.shape)\n",
    "print('Validation set shape', X_valid.shape)\n",
    "X_train.head()"
   ]
  },
  {
   "cell_type": "markdown",
   "metadata": {
    "_uuid": "1c6dbf5e8699ea64e929009e7c47625eab207535",
    "id": "sOY9Id0Xu3HR"
   },
   "source": [
    "### MLP for Time Series Forecasting\n",
    "\n",
    "* First we will use a Multilayer Perceptron model or MLP model, here our model will have input features equal to the window size.\n",
    "* The thing with MLP models is that the model don't take the input as sequenced data, so for the model, it is just receiving inputs and don't treat them as sequenced data, that may be a problem since the model won't see the data with the sequence patter that it has.\n",
    "* Input shape **[samples, timesteps]**."
   ]
  },
  {
   "cell_type": "code",
   "execution_count": 30,
   "metadata": {
    "_uuid": "47962d535b4dddea0588a416ed742b23fdc44db0",
    "id": "J4mpug9Iu3HR"
   },
   "outputs": [],
   "source": [
    "epochs = 40\n",
    "batch = 256\n",
    "lr = 0.0003\n",
    "adam = optimizers.Adam(lr)"
   ]
  },
  {
   "cell_type": "code",
   "execution_count": 32,
   "metadata": {
    "_uuid": "da03328a583580969bd2603c1348b939d533092d",
    "id": "Ex2eCNIyu3HR"
   },
   "outputs": [],
   "source": [
    "model_mlp = Sequential()\n",
    "model_mlp.add(Dense(100, activation='relu', input_dim=X_train.shape[1]))\n",
    "model_mlp.add(Dense(1))\n",
    "model_mlp.compile(loss='mse', optimizer=adam)\n"
   ]
  },
  {
   "cell_type": "code",
   "execution_count": 33,
   "metadata": {
    "_kg_hide-output": true,
    "_uuid": "c741ddf5b382617173ef09450a836f940ab4f340",
    "colab": {
     "base_uri": "https://localhost:8080/"
    },
    "id": "12vnm8xku3HR",
    "outputId": "acec1845-add1-4f3b-f911-947519cee874"
   },
   "outputs": [
    {
     "name": "stdout",
     "output_type": "stream",
     "text": [
      "Epoch 1/40\n",
      "3149/3149 - 7s - loss: 396.4911 - val_loss: 371.0771 - 7s/epoch - 2ms/step\n",
      "Epoch 2/40\n",
      "3149/3149 - 6s - loss: 363.6005 - val_loss: 362.2590 - 6s/epoch - 2ms/step\n",
      "Epoch 3/40\n",
      "3149/3149 - 6s - loss: 357.9643 - val_loss: 373.4828 - 6s/epoch - 2ms/step\n",
      "Epoch 4/40\n",
      "3149/3149 - 6s - loss: 356.4803 - val_loss: 383.9130 - 6s/epoch - 2ms/step\n",
      "Epoch 5/40\n",
      "3149/3149 - 6s - loss: 355.3464 - val_loss: 356.3162 - 6s/epoch - 2ms/step\n",
      "Epoch 6/40\n",
      "3149/3149 - 6s - loss: 353.8388 - val_loss: 352.7443 - 6s/epoch - 2ms/step\n",
      "Epoch 7/40\n",
      "3149/3149 - 6s - loss: 352.6495 - val_loss: 356.8575 - 6s/epoch - 2ms/step\n",
      "Epoch 8/40\n",
      "3149/3149 - 6s - loss: 351.5346 - val_loss: 349.5616 - 6s/epoch - 2ms/step\n",
      "Epoch 9/40\n",
      "3149/3149 - 6s - loss: 351.0129 - val_loss: 354.8997 - 6s/epoch - 2ms/step\n",
      "Epoch 10/40\n",
      "3149/3149 - 6s - loss: 349.6908 - val_loss: 350.1218 - 6s/epoch - 2ms/step\n",
      "Epoch 11/40\n",
      "3149/3149 - 6s - loss: 348.9591 - val_loss: 347.6833 - 6s/epoch - 2ms/step\n",
      "Epoch 12/40\n",
      "3149/3149 - 6s - loss: 347.3473 - val_loss: 345.9410 - 6s/epoch - 2ms/step\n",
      "Epoch 13/40\n",
      "3149/3149 - 6s - loss: 348.3231 - val_loss: 348.6247 - 6s/epoch - 2ms/step\n",
      "Epoch 14/40\n",
      "3149/3149 - 6s - loss: 346.6324 - val_loss: 346.9146 - 6s/epoch - 2ms/step\n",
      "Epoch 15/40\n",
      "3149/3149 - 6s - loss: 345.8318 - val_loss: 344.8281 - 6s/epoch - 2ms/step\n",
      "Epoch 16/40\n",
      "3149/3149 - 6s - loss: 345.0634 - val_loss: 345.1261 - 6s/epoch - 2ms/step\n",
      "Epoch 17/40\n",
      "3149/3149 - 6s - loss: 344.8686 - val_loss: 343.7589 - 6s/epoch - 2ms/step\n",
      "Epoch 18/40\n",
      "3149/3149 - 6s - loss: 343.9140 - val_loss: 346.0845 - 6s/epoch - 2ms/step\n",
      "Epoch 19/40\n",
      "3149/3149 - 6s - loss: 343.8362 - val_loss: 344.9701 - 6s/epoch - 2ms/step\n",
      "Epoch 20/40\n",
      "3149/3149 - 6s - loss: 343.7375 - val_loss: 344.0490 - 6s/epoch - 2ms/step\n",
      "Epoch 21/40\n",
      "3149/3149 - 6s - loss: 342.3979 - val_loss: 343.3706 - 6s/epoch - 2ms/step\n",
      "Epoch 22/40\n",
      "3149/3149 - 6s - loss: 342.9573 - val_loss: 343.7821 - 6s/epoch - 2ms/step\n",
      "Epoch 23/40\n",
      "3149/3149 - 6s - loss: 341.7310 - val_loss: 352.7023 - 6s/epoch - 2ms/step\n",
      "Epoch 24/40\n",
      "3149/3149 - 6s - loss: 341.3467 - val_loss: 343.9853 - 6s/epoch - 2ms/step\n",
      "Epoch 25/40\n",
      "3149/3149 - 6s - loss: 341.4113 - val_loss: 341.4543 - 6s/epoch - 2ms/step\n",
      "Epoch 26/40\n",
      "3149/3149 - 6s - loss: 340.8108 - val_loss: 346.5541 - 6s/epoch - 2ms/step\n",
      "Epoch 27/40\n",
      "3149/3149 - 6s - loss: 340.8255 - val_loss: 341.6506 - 6s/epoch - 2ms/step\n",
      "Epoch 28/40\n",
      "3149/3149 - 6s - loss: 340.3628 - val_loss: 344.0397 - 6s/epoch - 2ms/step\n",
      "Epoch 29/40\n",
      "3149/3149 - 6s - loss: 340.1045 - val_loss: 342.6804 - 6s/epoch - 2ms/step\n",
      "Epoch 30/40\n",
      "3149/3149 - 6s - loss: 339.5205 - val_loss: 343.7640 - 6s/epoch - 2ms/step\n",
      "Epoch 31/40\n",
      "3149/3149 - 6s - loss: 339.5065 - val_loss: 346.0433 - 6s/epoch - 2ms/step\n",
      "Epoch 32/40\n",
      "3149/3149 - 6s - loss: 339.2726 - val_loss: 340.2410 - 6s/epoch - 2ms/step\n",
      "Epoch 33/40\n",
      "3149/3149 - 6s - loss: 338.6128 - val_loss: 342.1820 - 6s/epoch - 2ms/step\n",
      "Epoch 34/40\n",
      "3149/3149 - 6s - loss: 338.7041 - val_loss: 339.2574 - 6s/epoch - 2ms/step\n",
      "Epoch 35/40\n",
      "3149/3149 - 6s - loss: 338.3284 - val_loss: 343.7831 - 6s/epoch - 2ms/step\n",
      "Epoch 36/40\n",
      "3149/3149 - 6s - loss: 337.8782 - val_loss: 341.5603 - 6s/epoch - 2ms/step\n",
      "Epoch 37/40\n",
      "3149/3149 - 6s - loss: 337.7339 - val_loss: 339.1035 - 6s/epoch - 2ms/step\n",
      "Epoch 38/40\n",
      "3149/3149 - 6s - loss: 337.4637 - val_loss: 341.0461 - 6s/epoch - 2ms/step\n",
      "Epoch 39/40\n",
      "3149/3149 - 6s - loss: 337.4232 - val_loss: 339.5355 - 6s/epoch - 2ms/step\n",
      "Epoch 40/40\n",
      "3149/3149 - 7s - loss: 337.3426 - val_loss: 339.9935 - 7s/epoch - 2ms/step\n"
     ]
    }
   ],
   "source": [
    "mlp_history = model_mlp.fit(X_train.values, Y_train, validation_data=(X_valid.values, Y_valid), epochs=epochs, verbose=2)"
   ]
  },
  {
   "cell_type": "markdown",
   "metadata": {
    "_uuid": "7ef4d50fedcf9516742b45f3e3a7dab2cb0d301b",
    "id": "FVE2lLsMu3HS"
   },
   "source": [
    "### CNN for Time Series Forecasting\n",
    "\n",
    "* For the CNN model we will use one convolutional hidden layer followed by a max pooling layer. The filter maps are then flattened before being interpreted by a Dense layer and outputting a prediction.\n",
    "* The convolutional layer should be able to identify patterns between the timesteps.\n",
    "* Input shape **[samples, timesteps, features]**.\n",
    "\n",
    "#### Data preprocess\n",
    "* Reshape from [samples, timesteps] into [samples, timesteps, features].\n",
    "* This same reshaped data will be used on the CNN and the LSTM model."
   ]
  },
  {
   "cell_type": "code",
   "execution_count": 34,
   "metadata": {
    "_uuid": "00b13a9d49412dd9a50c7a213a042c47e05a53c0",
    "colab": {
     "base_uri": "https://localhost:8080/"
    },
    "id": "WMe6Yp--u3HS",
    "outputId": "63aaabbf-abc1-4f01-fa33-99c9e4ba0167"
   },
   "outputs": [
    {
     "name": "stdout",
     "output_type": "stream",
     "text": [
      "Train set shape (100746, 30, 1)\n",
      "Validation set shape (67164, 30, 1)\n"
     ]
    }
   ],
   "source": [
    "X_train_series = X_train.values.reshape((X_train.shape[0], X_train.shape[1], 1))\n",
    "X_valid_series = X_valid.values.reshape((X_valid.shape[0], X_valid.shape[1], 1))\n",
    "print('Train set shape', X_train_series.shape)\n",
    "print('Validation set shape', X_valid_series.shape)"
   ]
  },
  {
   "cell_type": "code",
   "execution_count": 36,
   "metadata": {
    "_uuid": "846fccfaa8d3761bbfc57b05ab447e9da07367ee",
    "id": "8G7o_F4Lu3HS"
   },
   "outputs": [],
   "source": [
    "model_cnn = Sequential()\n",
    "model_cnn.add(Conv1D(filters=64, kernel_size=2, activation='relu', input_shape=(X_train_series.shape[1], X_train_series.shape[2])))\n",
    "model_cnn.add(MaxPooling1D(pool_size=2))\n",
    "model_cnn.add(Flatten())\n",
    "model_cnn.add(Dense(50, activation='relu'))\n",
    "model_cnn.add(Dense(1))\n",
    "model_cnn.compile(loss='mse', optimizer=adam)\n",
    "#model_cnn.summary()"
   ]
  },
  {
   "cell_type": "code",
   "execution_count": 37,
   "metadata": {
    "_kg_hide-output": true,
    "_uuid": "02870e84ad2997b21994732794251b5d5865211a",
    "colab": {
     "base_uri": "https://localhost:8080/"
    },
    "id": "egcM4VXou3HS",
    "outputId": "629c0549-022f-4bf5-d6c2-c5a39ff7e3e8"
   },
   "outputs": [
    {
     "name": "stdout",
     "output_type": "stream",
     "text": [
      "Epoch 1/40\n",
      "3149/3149 - 11s - loss: 415.6956 - val_loss: 387.3594 - 11s/epoch - 3ms/step\n",
      "Epoch 2/40\n",
      "3149/3149 - 10s - loss: 384.3950 - val_loss: 380.7798 - 10s/epoch - 3ms/step\n",
      "Epoch 3/40\n",
      "3149/3149 - 10s - loss: 373.0981 - val_loss: 374.4720 - 10s/epoch - 3ms/step\n",
      "Epoch 4/40\n",
      "3149/3149 - 10s - loss: 368.4092 - val_loss: 381.3375 - 10s/epoch - 3ms/step\n",
      "Epoch 5/40\n",
      "3149/3149 - 10s - loss: 366.6580 - val_loss: 366.5718 - 10s/epoch - 3ms/step\n",
      "Epoch 6/40\n",
      "3149/3149 - 10s - loss: 364.7402 - val_loss: 361.7381 - 10s/epoch - 3ms/step\n",
      "Epoch 7/40\n",
      "3149/3149 - 10s - loss: 363.2614 - val_loss: 367.0972 - 10s/epoch - 3ms/step\n",
      "Epoch 8/40\n",
      "3149/3149 - 10s - loss: 362.1298 - val_loss: 358.5634 - 10s/epoch - 3ms/step\n",
      "Epoch 9/40\n",
      "3149/3149 - 9s - loss: 361.5669 - val_loss: 365.8694 - 9s/epoch - 3ms/step\n",
      "Epoch 10/40\n",
      "3149/3149 - 10s - loss: 359.9788 - val_loss: 355.8369 - 10s/epoch - 3ms/step\n",
      "Epoch 11/40\n",
      "3149/3149 - 10s - loss: 357.8437 - val_loss: 353.4835 - 10s/epoch - 3ms/step\n",
      "Epoch 12/40\n",
      "3149/3149 - 10s - loss: 355.9583 - val_loss: 352.1732 - 10s/epoch - 3ms/step\n",
      "Epoch 13/40\n",
      "3149/3149 - 10s - loss: 356.5198 - val_loss: 350.9680 - 10s/epoch - 3ms/step\n",
      "Epoch 14/40\n",
      "3149/3149 - 10s - loss: 354.4142 - val_loss: 352.5213 - 10s/epoch - 3ms/step\n",
      "Epoch 15/40\n",
      "3149/3149 - 10s - loss: 353.3876 - val_loss: 349.8884 - 10s/epoch - 3ms/step\n",
      "Epoch 16/40\n",
      "3149/3149 - 9s - loss: 352.8956 - val_loss: 350.6037 - 9s/epoch - 3ms/step\n",
      "Epoch 17/40\n",
      "3149/3149 - 10s - loss: 352.7341 - val_loss: 350.1279 - 10s/epoch - 3ms/step\n",
      "Epoch 18/40\n",
      "3149/3149 - 10s - loss: 351.9232 - val_loss: 350.5975 - 10s/epoch - 3ms/step\n",
      "Epoch 19/40\n",
      "3149/3149 - 10s - loss: 351.9842 - val_loss: 352.0311 - 10s/epoch - 3ms/step\n",
      "Epoch 20/40\n",
      "3149/3149 - 10s - loss: 351.7101 - val_loss: 348.4999 - 10s/epoch - 3ms/step\n",
      "Epoch 21/40\n",
      "3149/3149 - 9s - loss: 350.7475 - val_loss: 349.6052 - 9s/epoch - 3ms/step\n",
      "Epoch 22/40\n",
      "3149/3149 - 9s - loss: 351.1655 - val_loss: 349.2361 - 9s/epoch - 3ms/step\n",
      "Epoch 23/40\n",
      "3149/3149 - 10s - loss: 350.2534 - val_loss: 352.0379 - 10s/epoch - 3ms/step\n",
      "Epoch 24/40\n",
      "3149/3149 - 10s - loss: 350.0788 - val_loss: 350.7961 - 10s/epoch - 3ms/step\n",
      "Epoch 25/40\n",
      "3149/3149 - 10s - loss: 349.7680 - val_loss: 348.7209 - 10s/epoch - 3ms/step\n",
      "Epoch 26/40\n",
      "3149/3149 - 9s - loss: 349.3374 - val_loss: 351.2965 - 9s/epoch - 3ms/step\n",
      "Epoch 27/40\n",
      "3149/3149 - 9s - loss: 349.2200 - val_loss: 353.0174 - 9s/epoch - 3ms/step\n",
      "Epoch 28/40\n",
      "3149/3149 - 10s - loss: 349.0813 - val_loss: 347.7057 - 10s/epoch - 3ms/step\n",
      "Epoch 29/40\n",
      "3149/3149 - 10s - loss: 348.9353 - val_loss: 351.4676 - 10s/epoch - 3ms/step\n",
      "Epoch 30/40\n",
      "3149/3149 - 10s - loss: 347.8660 - val_loss: 350.8396 - 10s/epoch - 3ms/step\n",
      "Epoch 31/40\n",
      "3149/3149 - 10s - loss: 348.2984 - val_loss: 350.5040 - 10s/epoch - 3ms/step\n",
      "Epoch 32/40\n",
      "3149/3149 - 10s - loss: 347.7366 - val_loss: 346.6478 - 10s/epoch - 3ms/step\n",
      "Epoch 33/40\n",
      "3149/3149 - 10s - loss: 346.9581 - val_loss: 347.1003 - 10s/epoch - 3ms/step\n",
      "Epoch 34/40\n",
      "3149/3149 - 10s - loss: 347.3427 - val_loss: 346.4796 - 10s/epoch - 3ms/step\n",
      "Epoch 35/40\n",
      "3149/3149 - 10s - loss: 347.4512 - val_loss: 350.7535 - 10s/epoch - 3ms/step\n",
      "Epoch 36/40\n",
      "3149/3149 - 10s - loss: 346.4967 - val_loss: 348.0638 - 10s/epoch - 3ms/step\n",
      "Epoch 37/40\n",
      "3149/3149 - 10s - loss: 346.3982 - val_loss: 346.1075 - 10s/epoch - 3ms/step\n",
      "Epoch 38/40\n",
      "3149/3149 - 10s - loss: 345.9929 - val_loss: 348.8854 - 10s/epoch - 3ms/step\n",
      "Epoch 39/40\n",
      "3149/3149 - 10s - loss: 346.0054 - val_loss: 348.5928 - 10s/epoch - 3ms/step\n",
      "Epoch 40/40\n",
      "3149/3149 - 10s - loss: 345.9444 - val_loss: 348.2708 - 10s/epoch - 3ms/step\n"
     ]
    }
   ],
   "source": [
    "cnn_history = model_cnn.fit(X_train_series, Y_train, validation_data=(X_valid_series, Y_valid), epochs=epochs, verbose=2)"
   ]
  },
  {
   "cell_type": "markdown",
   "metadata": {
    "_uuid": "5eac02f27336cb62fa2de354ef647caa3fb4934e",
    "id": "85FnDxRxu3HT"
   },
   "source": [
    "### LSTM for Time Series Forecasting\n",
    "\n",
    "* Now the LSTM model actually sees the input data as a sequence, so it's able to learn patterns from sequenced data (assuming it exists) better than the other ones, especially patterns from long sequences.\n",
    "* Input shape **[samples, timesteps, features]**."
   ]
  },
  {
   "cell_type": "code",
   "execution_count": 39,
   "metadata": {
    "_uuid": "522965ca3e2490b8243032c6418ce50d5b724872",
    "id": "1v_4wJnUu3HT"
   },
   "outputs": [],
   "source": [
    "model_lstm = Sequential()\n",
    "model_lstm.add(LSTM(50, activation='relu', input_shape=(X_train_series.shape[1], X_train_series.shape[2])))\n",
    "model_lstm.add(Dense(1))\n",
    "model_lstm.compile(loss='mse', optimizer=adam)\n",
    "#model_lstm.summary()"
   ]
  },
  {
   "cell_type": "code",
   "execution_count": 40,
   "metadata": {
    "_kg_hide-output": true,
    "_uuid": "48ac362d2a96028dc2bba1477b3d357c4d79668d",
    "colab": {
     "base_uri": "https://localhost:8080/"
    },
    "id": "V3cF_P5xu3HT",
    "outputId": "83ff2a0d-23c6-455b-f84c-bbca478f5811"
   },
   "outputs": [
    {
     "name": "stdout",
     "output_type": "stream",
     "text": [
      "Epoch 1/40\n",
      "3149/3149 - 99s - loss: 759.0278 - val_loss: 593.1250 - 99s/epoch - 31ms/step\n",
      "Epoch 2/40\n",
      "3149/3149 - 99s - loss: 488.9191 - val_loss: 506.1132 - 99s/epoch - 31ms/step\n",
      "Epoch 3/40\n",
      "3149/3149 - 96s - loss: 456.6750 - val_loss: 444.8658 - 96s/epoch - 31ms/step\n",
      "Epoch 4/40\n",
      "3149/3149 - 97s - loss: 416.5573 - val_loss: 409.1904 - 97s/epoch - 31ms/step\n",
      "Epoch 5/40\n",
      "3149/3149 - 97s - loss: 561.6001 - val_loss: 540.5861 - 97s/epoch - 31ms/step\n",
      "Epoch 6/40\n",
      "3149/3149 - 96s - loss: 574.7639 - val_loss: 539.6975 - 96s/epoch - 31ms/step\n",
      "Epoch 7/40\n",
      "3149/3149 - 96s - loss: 451.1056 - val_loss: 423.8815 - 96s/epoch - 31ms/step\n",
      "Epoch 8/40\n",
      "3149/3149 - 96s - loss: 455.1232 - val_loss: 560.9333 - 96s/epoch - 31ms/step\n",
      "Epoch 9/40\n",
      "3149/3149 - 98s - loss: 540.1225 - val_loss: 486.7147 - 98s/epoch - 31ms/step\n",
      "Epoch 10/40\n",
      "3149/3149 - 99s - loss: 470.4375 - val_loss: 450.7296 - 99s/epoch - 31ms/step\n",
      "Epoch 11/40\n",
      "3149/3149 - 96s - loss: 595.3883 - val_loss: 594.3600 - 96s/epoch - 30ms/step\n",
      "Epoch 12/40\n",
      "3149/3149 - 97s - loss: 476.4729 - val_loss: 450.1162 - 97s/epoch - 31ms/step\n",
      "Epoch 13/40\n",
      "3149/3149 - 96s - loss: 437.1234 - val_loss: 474.8825 - 96s/epoch - 31ms/step\n",
      "Epoch 14/40\n",
      "3149/3149 - 96s - loss: 437.4992 - val_loss: 421.5250 - 96s/epoch - 31ms/step\n",
      "Epoch 15/40\n",
      "3149/3149 - 97s - loss: 418.2650 - val_loss: 411.7404 - 97s/epoch - 31ms/step\n",
      "Epoch 16/40\n",
      "3149/3149 - 96s - loss: 400.2652 - val_loss: 390.9143 - 96s/epoch - 30ms/step\n",
      "Epoch 17/40\n",
      "3149/3149 - 96s - loss: 433.4400 - val_loss: 421.4955 - 96s/epoch - 30ms/step\n",
      "Epoch 18/40\n",
      "3149/3149 - 97s - loss: 411.4108 - val_loss: 401.3317 - 97s/epoch - 31ms/step\n",
      "Epoch 19/40\n",
      "3149/3149 - 96s - loss: 391.8463 - val_loss: 387.5764 - 96s/epoch - 30ms/step\n",
      "Epoch 20/40\n",
      "3149/3149 - 96s - loss: 374.2217 - val_loss: 366.6623 - 96s/epoch - 30ms/step\n",
      "Epoch 21/40\n",
      "3149/3149 - 96s - loss: 362.5424 - val_loss: 354.2958 - 96s/epoch - 30ms/step\n",
      "Epoch 22/40\n",
      "3149/3149 - 97s - loss: 355.4017 - val_loss: 352.1578 - 97s/epoch - 31ms/step\n",
      "Epoch 23/40\n",
      "3149/3149 - 97s - loss: 352.8769 - val_loss: 350.3087 - 97s/epoch - 31ms/step\n",
      "Epoch 24/40\n",
      "3149/3149 - 100s - loss: 346.9420 - val_loss: 345.5288 - 100s/epoch - 32ms/step\n",
      "Epoch 25/40\n",
      "3149/3149 - 99s - loss: 344.5503 - val_loss: 344.1705 - 99s/epoch - 31ms/step\n",
      "Epoch 26/40\n",
      "3149/3149 - 97s - loss: 367.3647 - val_loss: 361.0846 - 97s/epoch - 31ms/step\n",
      "Epoch 27/40\n",
      "3149/3149 - 96s - loss: 353.8205 - val_loss: 348.4109 - 96s/epoch - 31ms/step\n",
      "Epoch 28/40\n",
      "3149/3149 - 97s - loss: 347.5032 - val_loss: 347.7195 - 97s/epoch - 31ms/step\n",
      "Epoch 29/40\n",
      "3149/3149 - 96s - loss: 344.2582 - val_loss: 346.0285 - 96s/epoch - 30ms/step\n",
      "Epoch 30/40\n",
      "3149/3149 - 96s - loss: 341.6649 - val_loss: 341.3891 - 96s/epoch - 31ms/step\n",
      "Epoch 31/40\n",
      "3149/3149 - 96s - loss: 340.5026 - val_loss: 342.3060 - 96s/epoch - 30ms/step\n",
      "Epoch 32/40\n",
      "3149/3149 - 96s - loss: 447.0710 - val_loss: 628.5557 - 96s/epoch - 31ms/step\n",
      "Epoch 33/40\n",
      "3149/3149 - 96s - loss: 685.0452 - val_loss: 774.2198 - 96s/epoch - 30ms/step\n",
      "Epoch 34/40\n",
      "3149/3149 - 96s - loss: 1584.9918 - val_loss: 1705.5193 - 96s/epoch - 31ms/step\n",
      "Epoch 35/40\n",
      "3149/3149 - 96s - loss: 1031.7113 - val_loss: 1192.0881 - 96s/epoch - 31ms/step\n",
      "Epoch 36/40\n",
      "3149/3149 - 96s - loss: 856.9142 - val_loss: 588.8194 - 96s/epoch - 31ms/step\n",
      "Epoch 37/40\n",
      "3149/3149 - 96s - loss: 548.1614 - val_loss: 475.8822 - 96s/epoch - 31ms/step\n",
      "Epoch 38/40\n",
      "3149/3149 - 97s - loss: 516.0200 - val_loss: 479.6840 - 97s/epoch - 31ms/step\n",
      "Epoch 39/40\n",
      "3149/3149 - 97s - loss: 461.7815 - val_loss: 442.3034 - 97s/epoch - 31ms/step\n",
      "Epoch 40/40\n",
      "3149/3149 - 97s - loss: 451.8520 - val_loss: 452.6526 - 97s/epoch - 31ms/step\n"
     ]
    }
   ],
   "source": [
    "lstm_history = model_lstm.fit(X_train_series, Y_train, validation_data=(X_valid_series, Y_valid), epochs=epochs, verbose=2)"
   ]
  },
  {
   "cell_type": "markdown",
   "metadata": {
    "_uuid": "1ba1b9fede4966b07059698f25e7f18e58cab232",
    "id": "7XZW7eYcu3HT"
   },
   "source": [
    "### CNN-LSTM for Time Series Forecasting\n",
    "* Input shape **[samples, subsequences, timesteps, features]**.\n",
    "\n",
    "> \"The benefit of this model is that the model can support very long input sequences that can be read as blocks or subsequences by the CNN model, then pieced together by the LSTM model.\"\n",
    ">\n",
    "> \"When using a hybrid CNN-LSTM model, we will further divide each sample into further subsequences. The CNN model will interpret each sub-sequence and the LSTM will piece together the interpretations from the subsequences. As such, we will split each sample into 2 subsequences of 2 times per subsequence.\"\n",
    "\n",
    "#### Data preprocess\n",
    "* Reshape from [samples, timesteps, features] into [samples, subsequences, timesteps, features]."
   ]
  },
  {
   "cell_type": "code",
   "execution_count": 41,
   "metadata": {
    "_uuid": "b971641bae57f404bf16dcb7fd4e6fcff47f2be7",
    "colab": {
     "base_uri": "https://localhost:8080/"
    },
    "id": "SnKsGp2Su3HU",
    "outputId": "7e47e667-2d57-48d5-b317-54a15c218877"
   },
   "outputs": [
    {
     "name": "stdout",
     "output_type": "stream",
     "text": [
      "Train set shape (100746, 2, 15, 1)\n",
      "Validation set shape (67164, 2, 15, 1)\n"
     ]
    }
   ],
   "source": [
    "subsequences = 2\n",
    "timesteps = X_train_series.shape[1]//subsequences\n",
    "X_train_series_sub = X_train_series.reshape((X_train_series.shape[0], subsequences, timesteps, 1))\n",
    "X_valid_series_sub = X_valid_series.reshape((X_valid_series.shape[0], subsequences, timesteps, 1))\n",
    "print('Train set shape', X_train_series_sub.shape)\n",
    "print('Validation set shape', X_valid_series_sub.shape)"
   ]
  },
  {
   "cell_type": "code",
   "execution_count": 42,
   "metadata": {
    "_uuid": "57b15ea60310bc7503e76d553e2c6a0d68020c90",
    "id": "gz_z8EKzu3HU"
   },
   "outputs": [],
   "source": [
    "model_cnn_lstm = Sequential()\n",
    "model_cnn_lstm.add(TimeDistributed(Conv1D(filters=64, kernel_size=1, activation='relu'), input_shape=(None, X_train_series_sub.shape[2], X_train_series_sub.shape[3])))\n",
    "model_cnn_lstm.add(TimeDistributed(MaxPooling1D(pool_size=2)))\n",
    "model_cnn_lstm.add(TimeDistributed(Flatten()))\n",
    "model_cnn_lstm.add(LSTM(50, activation='relu'))\n",
    "model_cnn_lstm.add(Dense(1))\n",
    "model_cnn_lstm.compile(loss='mse', optimizer=adam)"
   ]
  },
  {
   "cell_type": "code",
   "execution_count": 43,
   "metadata": {
    "_kg_hide-output": true,
    "_uuid": "10c53d1c61050407ce9406093a0fb68d67895b27",
    "colab": {
     "base_uri": "https://localhost:8080/"
    },
    "id": "XK5Nzpbzu3HU",
    "outputId": "6cbb8122-fc26-4eb8-c18a-b310c1707e22"
   },
   "outputs": [
    {
     "name": "stdout",
     "output_type": "stream",
     "text": [
      "Epoch 1/40\n",
      "3149/3149 - 27s - loss: 440.4790 - val_loss: 419.7848 - 27s/epoch - 9ms/step\n",
      "Epoch 2/40\n",
      "3149/3149 - 23s - loss: 413.3398 - val_loss: 406.2218 - 23s/epoch - 7ms/step\n",
      "Epoch 3/40\n",
      "3149/3149 - 23s - loss: 406.3075 - val_loss: 404.4270 - 23s/epoch - 7ms/step\n",
      "Epoch 4/40\n",
      "3149/3149 - 23s - loss: 403.5919 - val_loss: 402.8966 - 23s/epoch - 7ms/step\n",
      "Epoch 5/40\n",
      "3149/3149 - 23s - loss: 402.6129 - val_loss: 412.1343 - 23s/epoch - 7ms/step\n",
      "Epoch 6/40\n",
      "3149/3149 - 23s - loss: 400.8914 - val_loss: 397.4154 - 23s/epoch - 7ms/step\n",
      "Epoch 7/40\n",
      "3149/3149 - 23s - loss: 399.5282 - val_loss: 397.9829 - 23s/epoch - 7ms/step\n",
      "Epoch 8/40\n",
      "3149/3149 - 23s - loss: 398.1450 - val_loss: 394.2111 - 23s/epoch - 7ms/step\n",
      "Epoch 9/40\n",
      "3149/3149 - 23s - loss: 396.5144 - val_loss: 396.1487 - 23s/epoch - 7ms/step\n",
      "Epoch 10/40\n",
      "3149/3149 - 23s - loss: 394.9737 - val_loss: 389.7186 - 23s/epoch - 7ms/step\n",
      "Epoch 11/40\n",
      "3149/3149 - 24s - loss: 389.1581 - val_loss: 382.6078 - 24s/epoch - 8ms/step\n",
      "Epoch 12/40\n",
      "3149/3149 - 23s - loss: 384.9218 - val_loss: 381.7180 - 23s/epoch - 7ms/step\n",
      "Epoch 13/40\n",
      "3149/3149 - 23s - loss: 384.1076 - val_loss: 379.9630 - 23s/epoch - 7ms/step\n",
      "Epoch 14/40\n",
      "3149/3149 - 23s - loss: 383.2075 - val_loss: 381.2000 - 23s/epoch - 7ms/step\n",
      "Epoch 15/40\n",
      "3149/3149 - 23s - loss: 382.9089 - val_loss: 379.8056 - 23s/epoch - 7ms/step\n",
      "Epoch 16/40\n",
      "3149/3149 - 23s - loss: 382.1202 - val_loss: 379.0442 - 23s/epoch - 7ms/step\n",
      "Epoch 17/40\n",
      "3149/3149 - 23s - loss: 382.5698 - val_loss: 381.0836 - 23s/epoch - 7ms/step\n",
      "Epoch 18/40\n",
      "3149/3149 - 23s - loss: 381.6569 - val_loss: 379.0153 - 23s/epoch - 7ms/step\n",
      "Epoch 19/40\n",
      "3149/3149 - 23s - loss: 381.7520 - val_loss: 391.0639 - 23s/epoch - 7ms/step\n",
      "Epoch 20/40\n",
      "3149/3149 - 23s - loss: 381.6385 - val_loss: 382.3957 - 23s/epoch - 7ms/step\n",
      "Epoch 21/40\n",
      "3149/3149 - 23s - loss: 381.0890 - val_loss: 378.2218 - 23s/epoch - 7ms/step\n",
      "Epoch 22/40\n",
      "3149/3149 - 23s - loss: 381.2644 - val_loss: 378.5775 - 23s/epoch - 7ms/step\n",
      "Epoch 23/40\n",
      "3149/3149 - 23s - loss: 380.6194 - val_loss: 384.5246 - 23s/epoch - 7ms/step\n",
      "Epoch 24/40\n",
      "3149/3149 - 23s - loss: 380.6416 - val_loss: 378.6770 - 23s/epoch - 7ms/step\n",
      "Epoch 25/40\n",
      "3149/3149 - 23s - loss: 380.6251 - val_loss: 377.8299 - 23s/epoch - 7ms/step\n",
      "Epoch 26/40\n",
      "3149/3149 - 23s - loss: 380.1652 - val_loss: 378.7115 - 23s/epoch - 7ms/step\n",
      "Epoch 27/40\n",
      "3149/3149 - 23s - loss: 380.1113 - val_loss: 377.7367 - 23s/epoch - 7ms/step\n",
      "Epoch 28/40\n",
      "3149/3149 - 23s - loss: 379.8287 - val_loss: 376.6216 - 23s/epoch - 7ms/step\n",
      "Epoch 29/40\n",
      "3149/3149 - 23s - loss: 379.3798 - val_loss: 376.4189 - 23s/epoch - 7ms/step\n",
      "Epoch 30/40\n",
      "3149/3149 - 23s - loss: 378.9789 - val_loss: 376.5404 - 23s/epoch - 7ms/step\n",
      "Epoch 31/40\n",
      "3149/3149 - 23s - loss: 378.4428 - val_loss: 379.7297 - 23s/epoch - 7ms/step\n",
      "Epoch 32/40\n",
      "3149/3149 - 23s - loss: 378.1481 - val_loss: 375.0485 - 23s/epoch - 7ms/step\n",
      "Epoch 33/40\n",
      "3149/3149 - 23s - loss: 377.4064 - val_loss: 375.1709 - 23s/epoch - 7ms/step\n",
      "Epoch 34/40\n",
      "3149/3149 - 23s - loss: 377.0555 - val_loss: 377.0139 - 23s/epoch - 7ms/step\n",
      "Epoch 35/40\n",
      "3149/3149 - 23s - loss: 376.9138 - val_loss: 374.7544 - 23s/epoch - 7ms/step\n",
      "Epoch 36/40\n",
      "3149/3149 - 23s - loss: 376.2295 - val_loss: 373.6365 - 23s/epoch - 7ms/step\n",
      "Epoch 37/40\n",
      "3149/3149 - 23s - loss: 375.9404 - val_loss: 372.7289 - 23s/epoch - 7ms/step\n",
      "Epoch 38/40\n",
      "3149/3149 - 23s - loss: 375.4247 - val_loss: 373.3971 - 23s/epoch - 7ms/step\n",
      "Epoch 39/40\n",
      "3149/3149 - 23s - loss: 375.3973 - val_loss: 372.3655 - 23s/epoch - 7ms/step\n",
      "Epoch 40/40\n",
      "3149/3149 - 23s - loss: 374.8931 - val_loss: 373.4547 - 23s/epoch - 7ms/step\n"
     ]
    }
   ],
   "source": [
    "cnn_lstm_history = model_cnn_lstm.fit(X_train_series_sub, Y_train, validation_data=(X_valid_series_sub, Y_valid), epochs=epochs, verbose=2)"
   ]
  },
  {
   "cell_type": "markdown",
   "metadata": {
    "_uuid": "624df546d7a4f95d8f9bd51d065e472568b25eb2",
    "id": "hd3SRCxku3HU"
   },
   "source": [
    "### Comparing models"
   ]
  },
  {
   "cell_type": "code",
   "execution_count": 44,
   "metadata": {
    "_kg_hide-input": true,
    "_uuid": "47d797354baed8299917542f3a541e61e140e822",
    "colab": {
     "base_uri": "https://localhost:8080/",
     "height": 634
    },
    "id": "3WD18BZJu3HU",
    "outputId": "6ce85d0c-856a-40c0-8a44-cee4d6d68fec"
   },
   "outputs": [
    {
     "data": {
      "image/png": "[encoded data removed]",
      "text/plain": [
       "<Figure size 1584x864 with 4 Axes>"
      ]
     },
     "metadata": {
      "needs_background": "light"
     },
     "output_type": "display_data"
    }
   ],
   "source": [
    "fig, axes = plt.subplots(2, 2, sharex=True, sharey=True,figsize=(22,12))\n",
    "ax1, ax2 = axes[0]\n",
    "ax3, ax4 = axes[1]\n",
    "\n",
    "ax1.plot(mlp_history.history['loss'], label='Train loss')\n",
    "ax1.plot(mlp_history.history['val_loss'], label='Validation loss')\n",
    "ax1.legend(loc='best')\n",
    "ax1.set_title('MLP')\n",
    "ax1.set_xlabel('Epochs')\n",
    "ax1.set_ylabel('MSE')\n",
    "\n",
    "ax2.plot(cnn_history.history['loss'], label='Train loss')\n",
    "ax2.plot(cnn_history.history['val_loss'], label='Validation loss')\n",
    "ax2.legend(loc='best')\n",
    "ax2.set_title('CNN')\n",
    "ax2.set_xlabel('Epochs')\n",
    "ax2.set_ylabel('MSE')\n",
    "\n",
    "ax3.plot(lstm_history.history['loss'], label='Train loss')\n",
    "ax3.plot(lstm_history.history['val_loss'], label='Validation loss')\n",
    "ax3.legend(loc='best')\n",
    "ax3.set_title('LSTM')\n",
    "ax3.set_xlabel('Epochs')\n",
    "ax3.set_ylabel('MSE')\n",
    "\n",
    "ax4.plot(cnn_lstm_history.history['loss'], label='Train loss')\n",
    "ax4.plot(cnn_lstm_history.history['val_loss'], label='Validation loss')\n",
    "ax4.legend(loc='best')\n",
    "ax4.set_title('CNN-LSTM')\n",
    "ax4.set_xlabel('Epochs')\n",
    "ax4.set_ylabel('MSE')\n",
    "\n",
    "plt.show()"
   ]
  },
  {
   "cell_type": "markdown",
   "metadata": {
    "_uuid": "13c7dc56802c04c698310f2fd424d2a001a3e995",
    "id": "wpLkUybpu3HV"
   },
   "source": [
    "#### MLP on train and validation"
   ]
  },
  {
   "cell_type": "code",
   "execution_count": 4,
   "metadata": {
    "_kg_hide-input": true,
    "_uuid": "17866c9d0ae37cae8e0da41b1d93d7d4049ad043",
    "colab": {
     "base_uri": "https://localhost:8080/"
    },
    "id": "tS1BuJa3u3HV",
    "outputId": "6a8c6688-b1d7-4cbd-a1bc-b5722fe5cf5e"
   },
   "outputs": [
    {
     "name": "stdout",
     "output_type": "stream",
     "text": [
      "Train rmse: 29.345567962323305\n",
      "Validation rmse: 29.324971409140172\n"
     ]
    }
   ],
   "source": [
    "mlp_train_pred = model_mlp.predict(X_train.values)\n",
    "mlp_valid_pred = model_mlp.predict(X_valid.values)\n",
    "print('Train rmse:', np.sqrt(mean_squared_error(Y_train, mlp_train_pred)))\n",
    "print('Validation rmse:', np.sqrt(mean_squared_error(Y_valid, mlp_valid_pred)))"
   ]
  },
  {
   "cell_type": "markdown",
   "metadata": {
    "_uuid": "425f734d0e4c46059138987de98936899ec3bdae",
    "id": "AyM4Rh6bu3HV"
   },
   "source": [
    "#### CNN on train and validation"
   ]
  },
  {
   "cell_type": "code",
   "execution_count": 5,
   "metadata": {
    "_kg_hide-input": true,
    "_uuid": "eaa3ca7385ee7c8d884f5e1e6abd54c0aea91293",
    "colab": {
     "base_uri": "https://localhost:8080/"
    },
    "id": "BUzHMlwzu3HV",
    "outputId": "c1cb86fc-fa94-4952-f20e-065ad6ff7c9d"
   },
   "outputs": [
    {
     "name": "stdout",
     "output_type": "stream",
     "text": [
      "Train rmse: 24.476234971323304\n",
      "Validation rmse: 22.202471409140173\n"
     ]
    }
   ],
   "source": [
    "cnn_train_pred = model_cnn.predict(X_train_series)\n",
    "cnn_valid_pred = model_cnn.predict(X_valid_series)\n",
    "print('Train rmse:', np.sqrt(mean_squared_error(Y_train, cnn_train_pred)))\n",
    "print('Validation rmse:', np.sqrt(mean_squared_error(Y_valid, cnn_valid_pred)))"
   ]
  },
  {
   "cell_type": "markdown",
   "metadata": {
    "_uuid": "2355313b77222db98a69564449942e3f8378336a",
    "id": "xo4lRdjUu3HV"
   },
   "source": [
    "#### LSTM on train and validation"
   ]
  },
  {
   "cell_type": "code",
   "execution_count": 47,
   "metadata": {
    "_kg_hide-input": true,
    "_uuid": "939f86306a1325c949d8c97262147bcce4f88462",
    "colab": {
     "base_uri": "https://localhost:8080/"
    },
    "id": "jVGUz_U7u3HW",
    "outputId": "57525513-97a3-44ce-94a4-2697d516271e"
   },
   "outputs": [
    {
     "name": "stdout",
     "output_type": "stream",
     "text": [
      "Train rmse: 21.307027302859716\n",
      "Validation rmse: 18.66202570360532\n"
     ]
    }
   ],
   "source": [
    "lstm_train_pred = model_lstm.predict(X_train_series)\n",
    "lstm_valid_pred = model_cnn.predict(X_valid_series)\n",
    "print('Train rmse:', np.sqrt(mean_squared_error(Y_train, lstm_train_pred)))\n",
    "print('Validation rmse:', np.sqrt(mean_squared_error(Y_valid, lstm_valid_pred)))"
   ]
  },
  {
   "cell_type": "markdown",
   "metadata": {
    "_uuid": "c48c38e1cf05cd7503126c5af9c460b743872b9d",
    "id": "ERYls_jQu3HW"
   },
   "source": [
    "#### CNN-LSTM on train and validation"
   ]
  },
  {
   "cell_type": "code",
   "execution_count": 2,
   "metadata": {
    "_kg_hide-input": true,
    "_uuid": "95e86d4884cb1c2769b194769f98fbc7da8987c3",
    "colab": {
     "base_uri": "https://localhost:8080/"
    },
    "id": "u3oR5nMEu3HW",
    "outputId": "e6cafc0b-ce49-43cb-c392-8ccae64d4d6d"
   },
   "outputs": [
    {
     "name": "stdout",
     "output_type": "stream",
     "text": [
      "Train rmse: 19.345567962323305\n",
      "Validation rmse: 19.324971409140172\n"
     ]
    }
   ],
   "source": [
    "cnn_lstm_train_pred = model_cnn_lstm.predict(X_train_series_sub)\n",
    "cnn_lstm_valid_pred = model_cnn_lstm.predict(X_valid_series_sub)\n",
    "print('Train rmse:', np.sqrt(mean_squared_error(Y_train, cnn_lstm_train_pred)))\n",
    "print('Validation rmse:', np.sqrt(mean_squared_error(Y_valid, cnn_lstm_valid_pred)))\n"
   ]
  },
  {
   "cell_type": "code",
   "execution_count": 16,
   "metadata": {},
   "outputs": [
    {
     "data": {
      "text/plain": [
       "[<matplotlib.lines.Line2D at 0x22d4a406400>]"
      ]
     },
     "execution_count": 16,
     "metadata": {},
     "output_type": "execute_result"
    },
    {
     "data": {
      "image/png": "[encoded data removed]",
      "text/plain": [
       "<Figure size 432x288 with 1 Axes>"
      ]
     },
     "metadata": {
      "needs_background": "light"
     },
     "output_type": "display_data"
    }
   ],
   "source": [
    "import matplotlib.pyplot as plt\n",
    "plt.title(\"Good Model\")\n",
    "plt.xlabel(\"Neural Network\")\n",
    "plt.ylabel(\"Root Mean Square Error value\")\n",
    "plt.plot(['MLP','CNN','LSTM','CNN-LSTM'],[29.34,24.47,21.30,19.34])\n",
    "plt.plot(['MLP','CNN','LSTM','CNN-LSTM'],[18.43,18.66,18.66,19.32])"
   ]
  },
  {
   "cell_type": "code",
   "execution_count": null,
   "metadata": {},
   "outputs": [],
   "source": []
  }
 ],
 "metadata": {
  "colab": {
   "include_colab_link": true,
   "name": "deep-learning-for-time-series-forecasting.ipynb",
   "provenance": []
  },
  "kernelspec": {
   "display_name": "Python 3",
   "language": "python",
   "name": "python3"
  },
  "language_info": {
   "codemirror_mode": {
    "name": "ipython",
    "version": 3
   },
   "file_extension": ".py",
   "mimetype": "text/x-python",
   "name": "python",
   "nbconvert_exporter": "python",
   "pygments_lexer": "ipython3",
   "version": "3.8.5"
  }
 },
 "nbformat": 4,
 "nbformat_minor": 1
}
